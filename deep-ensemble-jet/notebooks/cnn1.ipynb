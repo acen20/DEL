{
  "cells": [
    {
      "cell_type": "code",
      "execution_count": 488,
      "metadata": {
        "colab": {
          "base_uri": "https://localhost:8080/"
        },
        "id": "3dgcz0LaVCIU",
        "outputId": "4b3e5355-f0df-4ffe-b075-5e2f5561cdfb"
      },
      "outputs": [
        {
          "output_type": "stream",
          "name": "stdout",
          "text": [
            "mkdir: cannot create directory ‘../dataset’: File exists\n",
            "--2022-03-06 07:37:30--  https://raw.githubusercontent.com/acen20/DEL/master/deep-ensemble-jet/dataset/KDDTrain%2B.txt\n",
            "Resolving raw.githubusercontent.com (raw.githubusercontent.com)... 185.199.108.133, 185.199.109.133, 185.199.110.133, ...\n",
            "Connecting to raw.githubusercontent.com (raw.githubusercontent.com)|185.199.108.133|:443... connected.\n",
            "HTTP request sent, awaiting response... 200 OK\n",
            "Length: 19109424 (18M) [text/plain]\n",
            "Saving to: ‘../dataset/KDDTrain+.txt’\n",
            "\n",
            "../dataset/KDDTrain 100%[===================>]  18.22M  --.-KB/s    in 0.1s    \n",
            "\n",
            "2022-03-06 07:37:30 (157 MB/s) - ‘../dataset/KDDTrain+.txt’ saved [19109424/19109424]\n",
            "\n",
            "--2022-03-06 07:37:30--  https://raw.githubusercontent.com/acen20/DEL/master/deep-ensemble-jet/dataset/KDDTest%2B.txt\n",
            "Resolving raw.githubusercontent.com (raw.githubusercontent.com)... 185.199.110.133, 185.199.108.133, 185.199.109.133, ...\n",
            "Connecting to raw.githubusercontent.com (raw.githubusercontent.com)|185.199.110.133|:443... connected.\n",
            "HTTP request sent, awaiting response... 200 OK\n",
            "Length: 3441513 (3.3M) [text/plain]\n",
            "Saving to: ‘../dataset/KDDTest+.txt’\n",
            "\n",
            "../dataset/KDDTest+ 100%[===================>]   3.28M  --.-KB/s    in 0.03s   \n",
            "\n",
            "2022-03-06 07:37:30 (110 MB/s) - ‘../dataset/KDDTest+.txt’ saved [3441513/3441513]\n",
            "\n",
            "--2022-03-06 07:37:31--  https://raw.githubusercontent.com/acen20/DEL/master/deep-ensemble-jet/dataset/KDDTrain%2B_20Percent.txt\n",
            "Resolving raw.githubusercontent.com (raw.githubusercontent.com)... 185.199.110.133, 185.199.108.133, 185.199.109.133, ...\n",
            "Connecting to raw.githubusercontent.com (raw.githubusercontent.com)|185.199.110.133|:443... connected.\n",
            "HTTP request sent, awaiting response... 200 OK\n",
            "Length: 3822033 (3.6M) [text/plain]\n",
            "Saving to: ‘../dataset/KDDTrain+_20Percent.txt’\n",
            "\n",
            "../dataset/KDDTrain 100%[===================>]   3.64M  --.-KB/s    in 0.02s   \n",
            "\n",
            "2022-03-06 07:37:31 (147 MB/s) - ‘../dataset/KDDTrain+_20Percent.txt’ saved [3822033/3822033]\n",
            "\n",
            "--2022-03-06 07:37:31--  https://raw.githubusercontent.com/acen20/DEL/master/deep-ensemble-jet/dataset/KDDTest-21.txt\n",
            "Resolving raw.githubusercontent.com (raw.githubusercontent.com)... 185.199.108.133, 185.199.109.133, 185.199.110.133, ...\n",
            "Connecting to raw.githubusercontent.com (raw.githubusercontent.com)|185.199.108.133|:443... connected.\n",
            "HTTP request sent, awaiting response... 200 OK\n",
            "Length: 1814092 (1.7M) [text/plain]\n",
            "Saving to: ‘../dataset/KDDTest-21.txt’\n",
            "\n",
            "../dataset/KDDTest- 100%[===================>]   1.73M  --.-KB/s    in 0.01s   \n",
            "\n",
            "2022-03-06 07:37:31 (146 MB/s) - ‘../dataset/KDDTest-21.txt’ saved [1814092/1814092]\n",
            "\n"
          ]
        }
      ],
      "source": [
        "!mkdir ../dataset \n",
        "!wget -O ../dataset/KDDTrain+.txt https://raw.githubusercontent.com/acen20/DEL/master/deep-ensemble-jet/dataset/KDDTrain%2B.txt\n",
        "!wget -O ../dataset/KDDTest+.txt https://raw.githubusercontent.com/acen20/DEL/master/deep-ensemble-jet/dataset/KDDTest%2B.txt\n",
        "!wget -O ../dataset/KDDTrain+_20Percent.txt https://raw.githubusercontent.com/acen20/DEL/master/deep-ensemble-jet/dataset/KDDTrain%2B_20Percent.txt\n",
        "!wget -O ../dataset/KDDTest-21.txt https://raw.githubusercontent.com/acen20/DEL/master/deep-ensemble-jet/dataset/KDDTest-21.txt"
      ],
      "id": "3dgcz0LaVCIU"
    },
    {
      "cell_type": "code",
      "execution_count": 489,
      "metadata": {
        "id": "8ec7a96a"
      },
      "outputs": [],
      "source": [
        "import torch\n",
        "from torch import nn\n",
        "from torchvision import transforms\n",
        "from torch.utils.data import TensorDataset, DataLoader\n",
        "import matplotlib.pyplot as plt\n",
        "from sklearn.metrics import precision_recall_curve\n",
        "from matplotlib import pyplot\n",
        "from sklearn.metrics import f1_score\n",
        "from sklearn.metrics import ConfusionMatrixDisplay\n",
        "from sklearn.model_selection import cross_val_score\n",
        "import numpy as np\n",
        "from sklearn.preprocessing import LabelEncoder\n",
        "from sklearn.model_selection import train_test_split\n",
        "from sklearn.metrics import classification_report\n",
        "from sklearn.preprocessing import MinMaxScaler\n",
        "from sklearn.model_selection import StratifiedKFold as KFold\n",
        "from sklearn.metrics import auc\n",
        "from sklearn.metrics import accuracy_score\n",
        "import matplotlib.pyplot as plt\n",
        "from sklearn.metrics import confusion_matrix\n",
        "from sklearn.decomposition import PCA"
      ],
      "id": "8ec7a96a"
    },
    {
      "cell_type": "code",
      "execution_count": 490,
      "metadata": {
        "id": "2c580674"
      },
      "outputs": [],
      "source": [
        "from warnings import simplefilter\n",
        "from sklearn.exceptions import ConvergenceWarning\n",
        "simplefilter(\"ignore\", category=ConvergenceWarning)"
      ],
      "id": "2c580674"
    },
    {
      "cell_type": "code",
      "execution_count": 491,
      "metadata": {
        "id": "929c5c3c"
      },
      "outputs": [],
      "source": [
        "import pandas as pd # data processing, CSV file I/O (e.g. pd.read_csv)\n",
        "df=pd.read_csv('../dataset/KDDTrain+.txt', header=None)\n",
        "df2=pd.read_csv('../dataset/KDDTest+.txt', header=None)"
      ],
      "id": "929c5c3c"
    },
    {
      "cell_type": "markdown",
      "metadata": {
        "id": "5b488c60"
      },
      "source": [
        "## Preprocessing"
      ],
      "id": "5b488c60"
    },
    {
      "cell_type": "code",
      "execution_count": 492,
      "metadata": {
        "colab": {
          "base_uri": "https://localhost:8080/",
          "height": 236
        },
        "id": "e919a469",
        "outputId": "c6105729-1412-44fc-934c-281c27a85c7f",
        "scrolled": false
      },
      "outputs": [
        {
          "output_type": "execute_result",
          "data": {
            "text/html": [
              "\n",
              "  <div id=\"df-cdf685b7-e880-49c9-88c6-62561cc7ced2\">\n",
              "    <div class=\"colab-df-container\">\n",
              "      <div>\n",
              "<style scoped>\n",
              "    .dataframe tbody tr th:only-of-type {\n",
              "        vertical-align: middle;\n",
              "    }\n",
              "\n",
              "    .dataframe tbody tr th {\n",
              "        vertical-align: top;\n",
              "    }\n",
              "\n",
              "    .dataframe thead th {\n",
              "        text-align: right;\n",
              "    }\n",
              "</style>\n",
              "<table border=\"1\" class=\"dataframe\">\n",
              "  <thead>\n",
              "    <tr style=\"text-align: right;\">\n",
              "      <th></th>\n",
              "      <th>0</th>\n",
              "      <th>1</th>\n",
              "      <th>2</th>\n",
              "      <th>3</th>\n",
              "      <th>4</th>\n",
              "      <th>5</th>\n",
              "      <th>6</th>\n",
              "      <th>7</th>\n",
              "      <th>8</th>\n",
              "      <th>9</th>\n",
              "      <th>...</th>\n",
              "      <th>33</th>\n",
              "      <th>34</th>\n",
              "      <th>35</th>\n",
              "      <th>36</th>\n",
              "      <th>37</th>\n",
              "      <th>38</th>\n",
              "      <th>39</th>\n",
              "      <th>40</th>\n",
              "      <th>41</th>\n",
              "      <th>42</th>\n",
              "    </tr>\n",
              "  </thead>\n",
              "  <tbody>\n",
              "    <tr>\n",
              "      <th>0</th>\n",
              "      <td>0</td>\n",
              "      <td>tcp</td>\n",
              "      <td>ftp_data</td>\n",
              "      <td>SF</td>\n",
              "      <td>491</td>\n",
              "      <td>0</td>\n",
              "      <td>0</td>\n",
              "      <td>0</td>\n",
              "      <td>0</td>\n",
              "      <td>0</td>\n",
              "      <td>...</td>\n",
              "      <td>0.17</td>\n",
              "      <td>0.03</td>\n",
              "      <td>0.17</td>\n",
              "      <td>0.00</td>\n",
              "      <td>0.00</td>\n",
              "      <td>0.00</td>\n",
              "      <td>0.05</td>\n",
              "      <td>0.00</td>\n",
              "      <td>normal</td>\n",
              "      <td>20</td>\n",
              "    </tr>\n",
              "    <tr>\n",
              "      <th>1</th>\n",
              "      <td>0</td>\n",
              "      <td>udp</td>\n",
              "      <td>other</td>\n",
              "      <td>SF</td>\n",
              "      <td>146</td>\n",
              "      <td>0</td>\n",
              "      <td>0</td>\n",
              "      <td>0</td>\n",
              "      <td>0</td>\n",
              "      <td>0</td>\n",
              "      <td>...</td>\n",
              "      <td>0.00</td>\n",
              "      <td>0.60</td>\n",
              "      <td>0.88</td>\n",
              "      <td>0.00</td>\n",
              "      <td>0.00</td>\n",
              "      <td>0.00</td>\n",
              "      <td>0.00</td>\n",
              "      <td>0.00</td>\n",
              "      <td>normal</td>\n",
              "      <td>15</td>\n",
              "    </tr>\n",
              "    <tr>\n",
              "      <th>2</th>\n",
              "      <td>0</td>\n",
              "      <td>tcp</td>\n",
              "      <td>private</td>\n",
              "      <td>S0</td>\n",
              "      <td>0</td>\n",
              "      <td>0</td>\n",
              "      <td>0</td>\n",
              "      <td>0</td>\n",
              "      <td>0</td>\n",
              "      <td>0</td>\n",
              "      <td>...</td>\n",
              "      <td>0.10</td>\n",
              "      <td>0.05</td>\n",
              "      <td>0.00</td>\n",
              "      <td>0.00</td>\n",
              "      <td>1.00</td>\n",
              "      <td>1.00</td>\n",
              "      <td>0.00</td>\n",
              "      <td>0.00</td>\n",
              "      <td>neptune</td>\n",
              "      <td>19</td>\n",
              "    </tr>\n",
              "    <tr>\n",
              "      <th>3</th>\n",
              "      <td>0</td>\n",
              "      <td>tcp</td>\n",
              "      <td>http</td>\n",
              "      <td>SF</td>\n",
              "      <td>232</td>\n",
              "      <td>8153</td>\n",
              "      <td>0</td>\n",
              "      <td>0</td>\n",
              "      <td>0</td>\n",
              "      <td>0</td>\n",
              "      <td>...</td>\n",
              "      <td>1.00</td>\n",
              "      <td>0.00</td>\n",
              "      <td>0.03</td>\n",
              "      <td>0.04</td>\n",
              "      <td>0.03</td>\n",
              "      <td>0.01</td>\n",
              "      <td>0.00</td>\n",
              "      <td>0.01</td>\n",
              "      <td>normal</td>\n",
              "      <td>21</td>\n",
              "    </tr>\n",
              "    <tr>\n",
              "      <th>4</th>\n",
              "      <td>0</td>\n",
              "      <td>tcp</td>\n",
              "      <td>http</td>\n",
              "      <td>SF</td>\n",
              "      <td>199</td>\n",
              "      <td>420</td>\n",
              "      <td>0</td>\n",
              "      <td>0</td>\n",
              "      <td>0</td>\n",
              "      <td>0</td>\n",
              "      <td>...</td>\n",
              "      <td>1.00</td>\n",
              "      <td>0.00</td>\n",
              "      <td>0.00</td>\n",
              "      <td>0.00</td>\n",
              "      <td>0.00</td>\n",
              "      <td>0.00</td>\n",
              "      <td>0.00</td>\n",
              "      <td>0.00</td>\n",
              "      <td>normal</td>\n",
              "      <td>21</td>\n",
              "    </tr>\n",
              "  </tbody>\n",
              "</table>\n",
              "<p>5 rows × 43 columns</p>\n",
              "</div>\n",
              "      <button class=\"colab-df-convert\" onclick=\"convertToInteractive('df-cdf685b7-e880-49c9-88c6-62561cc7ced2')\"\n",
              "              title=\"Convert this dataframe to an interactive table.\"\n",
              "              style=\"display:none;\">\n",
              "        \n",
              "  <svg xmlns=\"http://www.w3.org/2000/svg\" height=\"24px\"viewBox=\"0 0 24 24\"\n",
              "       width=\"24px\">\n",
              "    <path d=\"M0 0h24v24H0V0z\" fill=\"none\"/>\n",
              "    <path d=\"M18.56 5.44l.94 2.06.94-2.06 2.06-.94-2.06-.94-.94-2.06-.94 2.06-2.06.94zm-11 1L8.5 8.5l.94-2.06 2.06-.94-2.06-.94L8.5 2.5l-.94 2.06-2.06.94zm10 10l.94 2.06.94-2.06 2.06-.94-2.06-.94-.94-2.06-.94 2.06-2.06.94z\"/><path d=\"M17.41 7.96l-1.37-1.37c-.4-.4-.92-.59-1.43-.59-.52 0-1.04.2-1.43.59L10.3 9.45l-7.72 7.72c-.78.78-.78 2.05 0 2.83L4 21.41c.39.39.9.59 1.41.59.51 0 1.02-.2 1.41-.59l7.78-7.78 2.81-2.81c.8-.78.8-2.07 0-2.86zM5.41 20L4 18.59l7.72-7.72 1.47 1.35L5.41 20z\"/>\n",
              "  </svg>\n",
              "      </button>\n",
              "      \n",
              "  <style>\n",
              "    .colab-df-container {\n",
              "      display:flex;\n",
              "      flex-wrap:wrap;\n",
              "      gap: 12px;\n",
              "    }\n",
              "\n",
              "    .colab-df-convert {\n",
              "      background-color: #E8F0FE;\n",
              "      border: none;\n",
              "      border-radius: 50%;\n",
              "      cursor: pointer;\n",
              "      display: none;\n",
              "      fill: #1967D2;\n",
              "      height: 32px;\n",
              "      padding: 0 0 0 0;\n",
              "      width: 32px;\n",
              "    }\n",
              "\n",
              "    .colab-df-convert:hover {\n",
              "      background-color: #E2EBFA;\n",
              "      box-shadow: 0px 1px 2px rgba(60, 64, 67, 0.3), 0px 1px 3px 1px rgba(60, 64, 67, 0.15);\n",
              "      fill: #174EA6;\n",
              "    }\n",
              "\n",
              "    [theme=dark] .colab-df-convert {\n",
              "      background-color: #3B4455;\n",
              "      fill: #D2E3FC;\n",
              "    }\n",
              "\n",
              "    [theme=dark] .colab-df-convert:hover {\n",
              "      background-color: #434B5C;\n",
              "      box-shadow: 0px 1px 3px 1px rgba(0, 0, 0, 0.15);\n",
              "      filter: drop-shadow(0px 1px 2px rgba(0, 0, 0, 0.3));\n",
              "      fill: #FFFFFF;\n",
              "    }\n",
              "  </style>\n",
              "\n",
              "      <script>\n",
              "        const buttonEl =\n",
              "          document.querySelector('#df-cdf685b7-e880-49c9-88c6-62561cc7ced2 button.colab-df-convert');\n",
              "        buttonEl.style.display =\n",
              "          google.colab.kernel.accessAllowed ? 'block' : 'none';\n",
              "\n",
              "        async function convertToInteractive(key) {\n",
              "          const element = document.querySelector('#df-cdf685b7-e880-49c9-88c6-62561cc7ced2');\n",
              "          const dataTable =\n",
              "            await google.colab.kernel.invokeFunction('convertToInteractive',\n",
              "                                                     [key], {});\n",
              "          if (!dataTable) return;\n",
              "\n",
              "          const docLinkHtml = 'Like what you see? Visit the ' +\n",
              "            '<a target=\"_blank\" href=https://colab.research.google.com/notebooks/data_table.ipynb>data table notebook</a>'\n",
              "            + ' to learn more about interactive tables.';\n",
              "          element.innerHTML = '';\n",
              "          dataTable['output_type'] = 'display_data';\n",
              "          await google.colab.output.renderOutput(dataTable, element);\n",
              "          const docLink = document.createElement('div');\n",
              "          docLink.innerHTML = docLinkHtml;\n",
              "          element.appendChild(docLink);\n",
              "        }\n",
              "      </script>\n",
              "    </div>\n",
              "  </div>\n",
              "  "
            ],
            "text/plain": [
              "   0    1         2   3    4     5   6   7   8   9   ...    33    34    35  \\\n",
              "0   0  tcp  ftp_data  SF  491     0   0   0   0   0  ...  0.17  0.03  0.17   \n",
              "1   0  udp     other  SF  146     0   0   0   0   0  ...  0.00  0.60  0.88   \n",
              "2   0  tcp   private  S0    0     0   0   0   0   0  ...  0.10  0.05  0.00   \n",
              "3   0  tcp      http  SF  232  8153   0   0   0   0  ...  1.00  0.00  0.03   \n",
              "4   0  tcp      http  SF  199   420   0   0   0   0  ...  1.00  0.00  0.00   \n",
              "\n",
              "     36    37    38    39    40       41  42  \n",
              "0  0.00  0.00  0.00  0.05  0.00   normal  20  \n",
              "1  0.00  0.00  0.00  0.00  0.00   normal  15  \n",
              "2  0.00  1.00  1.00  0.00  0.00  neptune  19  \n",
              "3  0.04  0.03  0.01  0.00  0.01   normal  21  \n",
              "4  0.00  0.00  0.00  0.00  0.00   normal  21  \n",
              "\n",
              "[5 rows x 43 columns]"
            ]
          },
          "metadata": {},
          "execution_count": 492
        }
      ],
      "source": [
        "df.head()"
      ],
      "id": "e919a469"
    },
    {
      "cell_type": "code",
      "execution_count": 493,
      "metadata": {
        "id": "b7a65747"
      },
      "outputs": [],
      "source": [
        "df.columns = [str(i) for i in range(0, len(df.columns))]\n",
        "df2.columns = [str(i) for i in range(0, len(df2.columns))]"
      ],
      "id": "b7a65747"
    },
    {
      "cell_type": "code",
      "execution_count": 494,
      "metadata": {
        "id": "aa639012"
      },
      "outputs": [],
      "source": [
        "# Replacing Null values with 0. ML classifer cannot learn on Null values\n",
        "df.fillna(0, inplace=True)\n",
        "df2.fillna(0, inplace=True)"
      ],
      "id": "aa639012"
    },
    {
      "cell_type": "code",
      "execution_count": 495,
      "metadata": {
        "colab": {
          "base_uri": "https://localhost:8080/",
          "height": 236
        },
        "id": "740bf015",
        "outputId": "7c144e9e-6a8d-434d-8d50-ebb2ba273f40"
      },
      "outputs": [
        {
          "output_type": "execute_result",
          "data": {
            "text/html": [
              "\n",
              "  <div id=\"df-8c7a78cc-7fd4-4c84-a8cb-77d4b79b17c5\">\n",
              "    <div class=\"colab-df-container\">\n",
              "      <div>\n",
              "<style scoped>\n",
              "    .dataframe tbody tr th:only-of-type {\n",
              "        vertical-align: middle;\n",
              "    }\n",
              "\n",
              "    .dataframe tbody tr th {\n",
              "        vertical-align: top;\n",
              "    }\n",
              "\n",
              "    .dataframe thead th {\n",
              "        text-align: right;\n",
              "    }\n",
              "</style>\n",
              "<table border=\"1\" class=\"dataframe\">\n",
              "  <thead>\n",
              "    <tr style=\"text-align: right;\">\n",
              "      <th></th>\n",
              "      <th>0</th>\n",
              "      <th>1</th>\n",
              "      <th>2</th>\n",
              "      <th>3</th>\n",
              "      <th>4</th>\n",
              "      <th>5</th>\n",
              "      <th>6</th>\n",
              "      <th>7</th>\n",
              "      <th>8</th>\n",
              "      <th>9</th>\n",
              "      <th>...</th>\n",
              "      <th>33</th>\n",
              "      <th>34</th>\n",
              "      <th>35</th>\n",
              "      <th>36</th>\n",
              "      <th>37</th>\n",
              "      <th>38</th>\n",
              "      <th>39</th>\n",
              "      <th>40</th>\n",
              "      <th>41</th>\n",
              "      <th>42</th>\n",
              "    </tr>\n",
              "  </thead>\n",
              "  <tbody>\n",
              "    <tr>\n",
              "      <th>0</th>\n",
              "      <td>0</td>\n",
              "      <td>tcp</td>\n",
              "      <td>ftp_data</td>\n",
              "      <td>SF</td>\n",
              "      <td>491</td>\n",
              "      <td>0</td>\n",
              "      <td>0</td>\n",
              "      <td>0</td>\n",
              "      <td>0</td>\n",
              "      <td>0</td>\n",
              "      <td>...</td>\n",
              "      <td>0.17</td>\n",
              "      <td>0.03</td>\n",
              "      <td>0.17</td>\n",
              "      <td>0.00</td>\n",
              "      <td>0.00</td>\n",
              "      <td>0.00</td>\n",
              "      <td>0.05</td>\n",
              "      <td>0.00</td>\n",
              "      <td>normal</td>\n",
              "      <td>20</td>\n",
              "    </tr>\n",
              "    <tr>\n",
              "      <th>1</th>\n",
              "      <td>0</td>\n",
              "      <td>udp</td>\n",
              "      <td>other</td>\n",
              "      <td>SF</td>\n",
              "      <td>146</td>\n",
              "      <td>0</td>\n",
              "      <td>0</td>\n",
              "      <td>0</td>\n",
              "      <td>0</td>\n",
              "      <td>0</td>\n",
              "      <td>...</td>\n",
              "      <td>0.00</td>\n",
              "      <td>0.60</td>\n",
              "      <td>0.88</td>\n",
              "      <td>0.00</td>\n",
              "      <td>0.00</td>\n",
              "      <td>0.00</td>\n",
              "      <td>0.00</td>\n",
              "      <td>0.00</td>\n",
              "      <td>normal</td>\n",
              "      <td>15</td>\n",
              "    </tr>\n",
              "    <tr>\n",
              "      <th>2</th>\n",
              "      <td>0</td>\n",
              "      <td>tcp</td>\n",
              "      <td>private</td>\n",
              "      <td>S0</td>\n",
              "      <td>0</td>\n",
              "      <td>0</td>\n",
              "      <td>0</td>\n",
              "      <td>0</td>\n",
              "      <td>0</td>\n",
              "      <td>0</td>\n",
              "      <td>...</td>\n",
              "      <td>0.10</td>\n",
              "      <td>0.05</td>\n",
              "      <td>0.00</td>\n",
              "      <td>0.00</td>\n",
              "      <td>1.00</td>\n",
              "      <td>1.00</td>\n",
              "      <td>0.00</td>\n",
              "      <td>0.00</td>\n",
              "      <td>neptune</td>\n",
              "      <td>19</td>\n",
              "    </tr>\n",
              "    <tr>\n",
              "      <th>3</th>\n",
              "      <td>0</td>\n",
              "      <td>tcp</td>\n",
              "      <td>http</td>\n",
              "      <td>SF</td>\n",
              "      <td>232</td>\n",
              "      <td>8153</td>\n",
              "      <td>0</td>\n",
              "      <td>0</td>\n",
              "      <td>0</td>\n",
              "      <td>0</td>\n",
              "      <td>...</td>\n",
              "      <td>1.00</td>\n",
              "      <td>0.00</td>\n",
              "      <td>0.03</td>\n",
              "      <td>0.04</td>\n",
              "      <td>0.03</td>\n",
              "      <td>0.01</td>\n",
              "      <td>0.00</td>\n",
              "      <td>0.01</td>\n",
              "      <td>normal</td>\n",
              "      <td>21</td>\n",
              "    </tr>\n",
              "    <tr>\n",
              "      <th>4</th>\n",
              "      <td>0</td>\n",
              "      <td>tcp</td>\n",
              "      <td>http</td>\n",
              "      <td>SF</td>\n",
              "      <td>199</td>\n",
              "      <td>420</td>\n",
              "      <td>0</td>\n",
              "      <td>0</td>\n",
              "      <td>0</td>\n",
              "      <td>0</td>\n",
              "      <td>...</td>\n",
              "      <td>1.00</td>\n",
              "      <td>0.00</td>\n",
              "      <td>0.00</td>\n",
              "      <td>0.00</td>\n",
              "      <td>0.00</td>\n",
              "      <td>0.00</td>\n",
              "      <td>0.00</td>\n",
              "      <td>0.00</td>\n",
              "      <td>normal</td>\n",
              "      <td>21</td>\n",
              "    </tr>\n",
              "  </tbody>\n",
              "</table>\n",
              "<p>5 rows × 43 columns</p>\n",
              "</div>\n",
              "      <button class=\"colab-df-convert\" onclick=\"convertToInteractive('df-8c7a78cc-7fd4-4c84-a8cb-77d4b79b17c5')\"\n",
              "              title=\"Convert this dataframe to an interactive table.\"\n",
              "              style=\"display:none;\">\n",
              "        \n",
              "  <svg xmlns=\"http://www.w3.org/2000/svg\" height=\"24px\"viewBox=\"0 0 24 24\"\n",
              "       width=\"24px\">\n",
              "    <path d=\"M0 0h24v24H0V0z\" fill=\"none\"/>\n",
              "    <path d=\"M18.56 5.44l.94 2.06.94-2.06 2.06-.94-2.06-.94-.94-2.06-.94 2.06-2.06.94zm-11 1L8.5 8.5l.94-2.06 2.06-.94-2.06-.94L8.5 2.5l-.94 2.06-2.06.94zm10 10l.94 2.06.94-2.06 2.06-.94-2.06-.94-.94-2.06-.94 2.06-2.06.94z\"/><path d=\"M17.41 7.96l-1.37-1.37c-.4-.4-.92-.59-1.43-.59-.52 0-1.04.2-1.43.59L10.3 9.45l-7.72 7.72c-.78.78-.78 2.05 0 2.83L4 21.41c.39.39.9.59 1.41.59.51 0 1.02-.2 1.41-.59l7.78-7.78 2.81-2.81c.8-.78.8-2.07 0-2.86zM5.41 20L4 18.59l7.72-7.72 1.47 1.35L5.41 20z\"/>\n",
              "  </svg>\n",
              "      </button>\n",
              "      \n",
              "  <style>\n",
              "    .colab-df-container {\n",
              "      display:flex;\n",
              "      flex-wrap:wrap;\n",
              "      gap: 12px;\n",
              "    }\n",
              "\n",
              "    .colab-df-convert {\n",
              "      background-color: #E8F0FE;\n",
              "      border: none;\n",
              "      border-radius: 50%;\n",
              "      cursor: pointer;\n",
              "      display: none;\n",
              "      fill: #1967D2;\n",
              "      height: 32px;\n",
              "      padding: 0 0 0 0;\n",
              "      width: 32px;\n",
              "    }\n",
              "\n",
              "    .colab-df-convert:hover {\n",
              "      background-color: #E2EBFA;\n",
              "      box-shadow: 0px 1px 2px rgba(60, 64, 67, 0.3), 0px 1px 3px 1px rgba(60, 64, 67, 0.15);\n",
              "      fill: #174EA6;\n",
              "    }\n",
              "\n",
              "    [theme=dark] .colab-df-convert {\n",
              "      background-color: #3B4455;\n",
              "      fill: #D2E3FC;\n",
              "    }\n",
              "\n",
              "    [theme=dark] .colab-df-convert:hover {\n",
              "      background-color: #434B5C;\n",
              "      box-shadow: 0px 1px 3px 1px rgba(0, 0, 0, 0.15);\n",
              "      filter: drop-shadow(0px 1px 2px rgba(0, 0, 0, 0.3));\n",
              "      fill: #FFFFFF;\n",
              "    }\n",
              "  </style>\n",
              "\n",
              "      <script>\n",
              "        const buttonEl =\n",
              "          document.querySelector('#df-8c7a78cc-7fd4-4c84-a8cb-77d4b79b17c5 button.colab-df-convert');\n",
              "        buttonEl.style.display =\n",
              "          google.colab.kernel.accessAllowed ? 'block' : 'none';\n",
              "\n",
              "        async function convertToInteractive(key) {\n",
              "          const element = document.querySelector('#df-8c7a78cc-7fd4-4c84-a8cb-77d4b79b17c5');\n",
              "          const dataTable =\n",
              "            await google.colab.kernel.invokeFunction('convertToInteractive',\n",
              "                                                     [key], {});\n",
              "          if (!dataTable) return;\n",
              "\n",
              "          const docLinkHtml = 'Like what you see? Visit the ' +\n",
              "            '<a target=\"_blank\" href=https://colab.research.google.com/notebooks/data_table.ipynb>data table notebook</a>'\n",
              "            + ' to learn more about interactive tables.';\n",
              "          element.innerHTML = '';\n",
              "          dataTable['output_type'] = 'display_data';\n",
              "          await google.colab.output.renderOutput(dataTable, element);\n",
              "          const docLink = document.createElement('div');\n",
              "          docLink.innerHTML = docLinkHtml;\n",
              "          element.appendChild(docLink);\n",
              "        }\n",
              "      </script>\n",
              "    </div>\n",
              "  </div>\n",
              "  "
            ],
            "text/plain": [
              "   0    1         2   3    4     5  6  7  8  9  ...    33    34    35    36  \\\n",
              "0  0  tcp  ftp_data  SF  491     0  0  0  0  0  ...  0.17  0.03  0.17  0.00   \n",
              "1  0  udp     other  SF  146     0  0  0  0  0  ...  0.00  0.60  0.88  0.00   \n",
              "2  0  tcp   private  S0    0     0  0  0  0  0  ...  0.10  0.05  0.00  0.00   \n",
              "3  0  tcp      http  SF  232  8153  0  0  0  0  ...  1.00  0.00  0.03  0.04   \n",
              "4  0  tcp      http  SF  199   420  0  0  0  0  ...  1.00  0.00  0.00  0.00   \n",
              "\n",
              "     37    38    39    40       41  42  \n",
              "0  0.00  0.00  0.05  0.00   normal  20  \n",
              "1  0.00  0.00  0.00  0.00   normal  15  \n",
              "2  1.00  1.00  0.00  0.00  neptune  19  \n",
              "3  0.03  0.01  0.00  0.01   normal  21  \n",
              "4  0.00  0.00  0.00  0.00   normal  21  \n",
              "\n",
              "[5 rows x 43 columns]"
            ]
          },
          "metadata": {},
          "execution_count": 495
        }
      ],
      "source": [
        "# Peak on dataset\n",
        "df.head()"
      ],
      "id": "740bf015"
    },
    {
      "cell_type": "code",
      "execution_count": 496,
      "metadata": {
        "colab": {
          "base_uri": "https://localhost:8080/"
        },
        "id": "9ec1c0af",
        "outputId": "45144d25-d133-4493-e87a-3f020f7ed750"
      },
      "outputs": [
        {
          "output_type": "execute_result",
          "data": {
            "text/plain": [
              "(125973, 43)"
            ]
          },
          "metadata": {},
          "execution_count": 496
        }
      ],
      "source": [
        "df.shape"
      ],
      "id": "9ec1c0af"
    },
    {
      "cell_type": "code",
      "execution_count": 497,
      "metadata": {
        "colab": {
          "base_uri": "https://localhost:8080/",
          "height": 236
        },
        "id": "bfbee834",
        "outputId": "abdf4a91-73ce-4018-bdaf-a745ead9cc0d"
      },
      "outputs": [
        {
          "output_type": "execute_result",
          "data": {
            "text/html": [
              "\n",
              "  <div id=\"df-a497ac3b-c833-45b2-b7b2-e15e16340368\">\n",
              "    <div class=\"colab-df-container\">\n",
              "      <div>\n",
              "<style scoped>\n",
              "    .dataframe tbody tr th:only-of-type {\n",
              "        vertical-align: middle;\n",
              "    }\n",
              "\n",
              "    .dataframe tbody tr th {\n",
              "        vertical-align: top;\n",
              "    }\n",
              "\n",
              "    .dataframe thead th {\n",
              "        text-align: right;\n",
              "    }\n",
              "</style>\n",
              "<table border=\"1\" class=\"dataframe\">\n",
              "  <thead>\n",
              "    <tr style=\"text-align: right;\">\n",
              "      <th></th>\n",
              "      <th>0</th>\n",
              "      <th>1</th>\n",
              "      <th>2</th>\n",
              "      <th>3</th>\n",
              "      <th>4</th>\n",
              "      <th>5</th>\n",
              "      <th>6</th>\n",
              "      <th>7</th>\n",
              "      <th>8</th>\n",
              "      <th>9</th>\n",
              "      <th>...</th>\n",
              "      <th>32</th>\n",
              "      <th>33</th>\n",
              "      <th>34</th>\n",
              "      <th>35</th>\n",
              "      <th>36</th>\n",
              "      <th>37</th>\n",
              "      <th>38</th>\n",
              "      <th>39</th>\n",
              "      <th>40</th>\n",
              "      <th>41</th>\n",
              "    </tr>\n",
              "  </thead>\n",
              "  <tbody>\n",
              "    <tr>\n",
              "      <th>0</th>\n",
              "      <td>0</td>\n",
              "      <td>tcp</td>\n",
              "      <td>ftp_data</td>\n",
              "      <td>SF</td>\n",
              "      <td>491</td>\n",
              "      <td>0</td>\n",
              "      <td>0</td>\n",
              "      <td>0</td>\n",
              "      <td>0</td>\n",
              "      <td>0</td>\n",
              "      <td>...</td>\n",
              "      <td>25</td>\n",
              "      <td>0.17</td>\n",
              "      <td>0.03</td>\n",
              "      <td>0.17</td>\n",
              "      <td>0.00</td>\n",
              "      <td>0.00</td>\n",
              "      <td>0.00</td>\n",
              "      <td>0.05</td>\n",
              "      <td>0.00</td>\n",
              "      <td>normal</td>\n",
              "    </tr>\n",
              "    <tr>\n",
              "      <th>1</th>\n",
              "      <td>0</td>\n",
              "      <td>udp</td>\n",
              "      <td>other</td>\n",
              "      <td>SF</td>\n",
              "      <td>146</td>\n",
              "      <td>0</td>\n",
              "      <td>0</td>\n",
              "      <td>0</td>\n",
              "      <td>0</td>\n",
              "      <td>0</td>\n",
              "      <td>...</td>\n",
              "      <td>1</td>\n",
              "      <td>0.00</td>\n",
              "      <td>0.60</td>\n",
              "      <td>0.88</td>\n",
              "      <td>0.00</td>\n",
              "      <td>0.00</td>\n",
              "      <td>0.00</td>\n",
              "      <td>0.00</td>\n",
              "      <td>0.00</td>\n",
              "      <td>normal</td>\n",
              "    </tr>\n",
              "    <tr>\n",
              "      <th>2</th>\n",
              "      <td>0</td>\n",
              "      <td>tcp</td>\n",
              "      <td>private</td>\n",
              "      <td>S0</td>\n",
              "      <td>0</td>\n",
              "      <td>0</td>\n",
              "      <td>0</td>\n",
              "      <td>0</td>\n",
              "      <td>0</td>\n",
              "      <td>0</td>\n",
              "      <td>...</td>\n",
              "      <td>26</td>\n",
              "      <td>0.10</td>\n",
              "      <td>0.05</td>\n",
              "      <td>0.00</td>\n",
              "      <td>0.00</td>\n",
              "      <td>1.00</td>\n",
              "      <td>1.00</td>\n",
              "      <td>0.00</td>\n",
              "      <td>0.00</td>\n",
              "      <td>neptune</td>\n",
              "    </tr>\n",
              "    <tr>\n",
              "      <th>3</th>\n",
              "      <td>0</td>\n",
              "      <td>tcp</td>\n",
              "      <td>http</td>\n",
              "      <td>SF</td>\n",
              "      <td>232</td>\n",
              "      <td>8153</td>\n",
              "      <td>0</td>\n",
              "      <td>0</td>\n",
              "      <td>0</td>\n",
              "      <td>0</td>\n",
              "      <td>...</td>\n",
              "      <td>255</td>\n",
              "      <td>1.00</td>\n",
              "      <td>0.00</td>\n",
              "      <td>0.03</td>\n",
              "      <td>0.04</td>\n",
              "      <td>0.03</td>\n",
              "      <td>0.01</td>\n",
              "      <td>0.00</td>\n",
              "      <td>0.01</td>\n",
              "      <td>normal</td>\n",
              "    </tr>\n",
              "    <tr>\n",
              "      <th>4</th>\n",
              "      <td>0</td>\n",
              "      <td>tcp</td>\n",
              "      <td>http</td>\n",
              "      <td>SF</td>\n",
              "      <td>199</td>\n",
              "      <td>420</td>\n",
              "      <td>0</td>\n",
              "      <td>0</td>\n",
              "      <td>0</td>\n",
              "      <td>0</td>\n",
              "      <td>...</td>\n",
              "      <td>255</td>\n",
              "      <td>1.00</td>\n",
              "      <td>0.00</td>\n",
              "      <td>0.00</td>\n",
              "      <td>0.00</td>\n",
              "      <td>0.00</td>\n",
              "      <td>0.00</td>\n",
              "      <td>0.00</td>\n",
              "      <td>0.00</td>\n",
              "      <td>normal</td>\n",
              "    </tr>\n",
              "  </tbody>\n",
              "</table>\n",
              "<p>5 rows × 42 columns</p>\n",
              "</div>\n",
              "      <button class=\"colab-df-convert\" onclick=\"convertToInteractive('df-a497ac3b-c833-45b2-b7b2-e15e16340368')\"\n",
              "              title=\"Convert this dataframe to an interactive table.\"\n",
              "              style=\"display:none;\">\n",
              "        \n",
              "  <svg xmlns=\"http://www.w3.org/2000/svg\" height=\"24px\"viewBox=\"0 0 24 24\"\n",
              "       width=\"24px\">\n",
              "    <path d=\"M0 0h24v24H0V0z\" fill=\"none\"/>\n",
              "    <path d=\"M18.56 5.44l.94 2.06.94-2.06 2.06-.94-2.06-.94-.94-2.06-.94 2.06-2.06.94zm-11 1L8.5 8.5l.94-2.06 2.06-.94-2.06-.94L8.5 2.5l-.94 2.06-2.06.94zm10 10l.94 2.06.94-2.06 2.06-.94-2.06-.94-.94-2.06-.94 2.06-2.06.94z\"/><path d=\"M17.41 7.96l-1.37-1.37c-.4-.4-.92-.59-1.43-.59-.52 0-1.04.2-1.43.59L10.3 9.45l-7.72 7.72c-.78.78-.78 2.05 0 2.83L4 21.41c.39.39.9.59 1.41.59.51 0 1.02-.2 1.41-.59l7.78-7.78 2.81-2.81c.8-.78.8-2.07 0-2.86zM5.41 20L4 18.59l7.72-7.72 1.47 1.35L5.41 20z\"/>\n",
              "  </svg>\n",
              "      </button>\n",
              "      \n",
              "  <style>\n",
              "    .colab-df-container {\n",
              "      display:flex;\n",
              "      flex-wrap:wrap;\n",
              "      gap: 12px;\n",
              "    }\n",
              "\n",
              "    .colab-df-convert {\n",
              "      background-color: #E8F0FE;\n",
              "      border: none;\n",
              "      border-radius: 50%;\n",
              "      cursor: pointer;\n",
              "      display: none;\n",
              "      fill: #1967D2;\n",
              "      height: 32px;\n",
              "      padding: 0 0 0 0;\n",
              "      width: 32px;\n",
              "    }\n",
              "\n",
              "    .colab-df-convert:hover {\n",
              "      background-color: #E2EBFA;\n",
              "      box-shadow: 0px 1px 2px rgba(60, 64, 67, 0.3), 0px 1px 3px 1px rgba(60, 64, 67, 0.15);\n",
              "      fill: #174EA6;\n",
              "    }\n",
              "\n",
              "    [theme=dark] .colab-df-convert {\n",
              "      background-color: #3B4455;\n",
              "      fill: #D2E3FC;\n",
              "    }\n",
              "\n",
              "    [theme=dark] .colab-df-convert:hover {\n",
              "      background-color: #434B5C;\n",
              "      box-shadow: 0px 1px 3px 1px rgba(0, 0, 0, 0.15);\n",
              "      filter: drop-shadow(0px 1px 2px rgba(0, 0, 0, 0.3));\n",
              "      fill: #FFFFFF;\n",
              "    }\n",
              "  </style>\n",
              "\n",
              "      <script>\n",
              "        const buttonEl =\n",
              "          document.querySelector('#df-a497ac3b-c833-45b2-b7b2-e15e16340368 button.colab-df-convert');\n",
              "        buttonEl.style.display =\n",
              "          google.colab.kernel.accessAllowed ? 'block' : 'none';\n",
              "\n",
              "        async function convertToInteractive(key) {\n",
              "          const element = document.querySelector('#df-a497ac3b-c833-45b2-b7b2-e15e16340368');\n",
              "          const dataTable =\n",
              "            await google.colab.kernel.invokeFunction('convertToInteractive',\n",
              "                                                     [key], {});\n",
              "          if (!dataTable) return;\n",
              "\n",
              "          const docLinkHtml = 'Like what you see? Visit the ' +\n",
              "            '<a target=\"_blank\" href=https://colab.research.google.com/notebooks/data_table.ipynb>data table notebook</a>'\n",
              "            + ' to learn more about interactive tables.';\n",
              "          element.innerHTML = '';\n",
              "          dataTable['output_type'] = 'display_data';\n",
              "          await google.colab.output.renderOutput(dataTable, element);\n",
              "          const docLink = document.createElement('div');\n",
              "          docLink.innerHTML = docLinkHtml;\n",
              "          element.appendChild(docLink);\n",
              "        }\n",
              "      </script>\n",
              "    </div>\n",
              "  </div>\n",
              "  "
            ],
            "text/plain": [
              "   0    1         2   3    4     5  6  7  8  9  ...   32    33    34    35  \\\n",
              "0  0  tcp  ftp_data  SF  491     0  0  0  0  0  ...   25  0.17  0.03  0.17   \n",
              "1  0  udp     other  SF  146     0  0  0  0  0  ...    1  0.00  0.60  0.88   \n",
              "2  0  tcp   private  S0    0     0  0  0  0  0  ...   26  0.10  0.05  0.00   \n",
              "3  0  tcp      http  SF  232  8153  0  0  0  0  ...  255  1.00  0.00  0.03   \n",
              "4  0  tcp      http  SF  199   420  0  0  0  0  ...  255  1.00  0.00  0.00   \n",
              "\n",
              "     36    37    38    39    40       41  \n",
              "0  0.00  0.00  0.00  0.05  0.00   normal  \n",
              "1  0.00  0.00  0.00  0.00  0.00   normal  \n",
              "2  0.00  1.00  1.00  0.00  0.00  neptune  \n",
              "3  0.04  0.03  0.01  0.00  0.01   normal  \n",
              "4  0.00  0.00  0.00  0.00  0.00   normal  \n",
              "\n",
              "[5 rows x 42 columns]"
            ]
          },
          "metadata": {},
          "execution_count": 497
        }
      ],
      "source": [
        "# Peak on the dataset\n",
        "df.drop('42',axis=1, inplace=True)\n",
        "df2.drop('42',axis=1, inplace=True)\n",
        "df.head()"
      ],
      "id": "bfbee834"
    },
    {
      "cell_type": "code",
      "execution_count": 498,
      "metadata": {
        "id": "7debc84a",
        "scrolled": true
      },
      "outputs": [],
      "source": [
        "sub_classes = df.iloc[:,41].value_counts()"
      ],
      "id": "7debc84a"
    },
    {
      "cell_type": "code",
      "execution_count": 499,
      "metadata": {
        "colab": {
          "base_uri": "https://localhost:8080/"
        },
        "id": "46a4fd5b",
        "outputId": "81eb5616-fd2b-4921-f13a-2ff1fc3b3707"
      },
      "outputs": [
        {
          "output_type": "stream",
          "name": "stdout",
          "text": [
            "normal             67343\n",
            "neptune            41214\n",
            "satan               3633\n",
            "ipsweep             3599\n",
            "portsweep           2931\n",
            "smurf               2646\n",
            "nmap                1493\n",
            "back                 956\n",
            "teardrop             892\n",
            "warezclient          890\n",
            "pod                  201\n",
            "guess_passwd          53\n",
            "buffer_overflow       30\n",
            "warezmaster           20\n",
            "land                  18\n",
            "imap                  11\n",
            "rootkit               10\n",
            "loadmodule             9\n",
            "ftp_write              8\n",
            "multihop               7\n",
            "phf                    4\n",
            "perl                   3\n",
            "spy                    2\n",
            "Name: 41, dtype: int64\n"
          ]
        }
      ],
      "source": [
        "print(sub_classes)"
      ],
      "id": "46a4fd5b"
    },
    {
      "cell_type": "code",
      "execution_count": 500,
      "metadata": {
        "id": "8gBzAOhUjozz"
      },
      "outputs": [],
      "source": [
        "r2l = ['ftp_write','guess_passwd', 'imap', 'multihop', 'phf', 'spy','warezclient','warezmaster','xlock', 'xsnoop','named',\n",
        "       'sendmail','snmpgetattack', 'snmpguess','httptunnel']\n",
        "u2r = ['buffer_overflow', 'loadmodule','perl','ps','rootkit','sqlattack','xterm']\n",
        "dos = ['back', 'land', 'neptune', 'smurf', 'teardrop','pod','mailbomb', 'processtable','udpstorm', 'worm','apache2']\n",
        "probe = ['ipsweep', 'nmap', 'portsweep', 'satan','saint','mscan']"
      ],
      "id": "8gBzAOhUjozz"
    },
    {
      "cell_type": "code",
      "execution_count": 501,
      "metadata": {
        "id": "dDY2mxULlf8W"
      },
      "outputs": [],
      "source": [
        "df['41'] = df['41'].map(\n",
        "    lambda x: 'malicious' if x in r2l \n",
        "    else 'malicious' if x in u2r \n",
        "    else 'malicious' if x in dos \n",
        "    else 'malicious' if x in probe \n",
        "    else 'normal' if x is 'normal'\n",
        "    else x\n",
        "    )\n",
        "\n",
        "df2['41'] = df2['41'].map(\n",
        "    lambda x: 'malicious' if x in r2l \n",
        "    else 'malicious' if x in u2r \n",
        "    else 'malicious' if x in dos \n",
        "    else 'malicious' if x in probe \n",
        "    else 'normal' if x is 'normal'\n",
        "    else x\n",
        "    )"
      ],
      "id": "dDY2mxULlf8W"
    },
    {
      "cell_type": "markdown",
      "metadata": {
        "id": "lc4aEOflw528"
      },
      "source": [
        "### Training set value counts"
      ],
      "id": "lc4aEOflw528"
    },
    {
      "cell_type": "code",
      "source": [
        "df['41'].value_counts()"
      ],
      "metadata": {
        "colab": {
          "base_uri": "https://localhost:8080/"
        },
        "id": "UEFVMzAOgiLk",
        "outputId": "ecd5957c-557a-42f9-c113-7d9a6a21e84f"
      },
      "id": "UEFVMzAOgiLk",
      "execution_count": 502,
      "outputs": [
        {
          "output_type": "execute_result",
          "data": {
            "text/plain": [
              "normal       67343\n",
              "malicious    58630\n",
              "Name: 41, dtype: int64"
            ]
          },
          "metadata": {},
          "execution_count": 502
        }
      ]
    },
    {
      "cell_type": "code",
      "execution_count": 503,
      "metadata": {
        "colab": {
          "base_uri": "https://localhost:8080/"
        },
        "id": "7sLpc-LxoBVm",
        "outputId": "4951970e-83d6-4ade-e5ba-0206dbae5d64"
      },
      "outputs": [
        {
          "output_type": "stream",
          "name": "stdout",
          "text": [
            "normal       67343\n",
            "malicious    58630\n",
            "Name: 41, dtype: int64\n"
          ]
        }
      ],
      "source": [
        "n,m = df['41'].value_counts()\n",
        "print(df['41'].value_counts())"
      ],
      "id": "7sLpc-LxoBVm"
    },
    {
      "cell_type": "code",
      "execution_count": 504,
      "metadata": {
        "colab": {
          "base_uri": "https://localhost:8080/"
        },
        "id": "Z_3ULToqbHv5",
        "outputId": "4f2d089c-d3e6-484d-c82d-cef6135d4729"
      },
      "outputs": [
        {
          "output_type": "stream",
          "name": "stdout",
          "text": [
            "Imbalance: 8713\n"
          ]
        }
      ],
      "source": [
        "imbalance = abs(n-m)\n",
        "print(f\"Imbalance: {imbalance}\")"
      ],
      "id": "Z_3ULToqbHv5"
    },
    {
      "cell_type": "markdown",
      "metadata": {
        "id": "KphX1ewXdF7z"
      },
      "source": [
        "### **Undersampling** "
      ],
      "id": "KphX1ewXdF7z"
    },
    {
      "cell_type": "code",
      "execution_count": 505,
      "metadata": {
        "id": "LraHqbAbb9wb"
      },
      "outputs": [],
      "source": [
        "#df.drop(df[df['41']=='normal'].iloc[:imbalance].index, inplace=True)"
      ],
      "id": "LraHqbAbb9wb"
    },
    {
      "cell_type": "code",
      "execution_count": 506,
      "metadata": {
        "colab": {
          "base_uri": "https://localhost:8080/"
        },
        "id": "Lu9yctSXelGx",
        "outputId": "2421b25b-bf99-4f40-eee5-eb89e2a54d98"
      },
      "outputs": [
        {
          "output_type": "stream",
          "name": "stdout",
          "text": [
            "normal       67343\n",
            "malicious    58630\n",
            "Name: 41, dtype: int64\n"
          ]
        }
      ],
      "source": [
        "print(df['41'].value_counts())"
      ],
      "id": "Lu9yctSXelGx"
    },
    {
      "cell_type": "code",
      "source": [
        "#df = df.sample(frac=1)"
      ],
      "metadata": {
        "id": "l9oatVVDzNPb"
      },
      "id": "l9oatVVDzNPb",
      "execution_count": 507,
      "outputs": []
    },
    {
      "cell_type": "markdown",
      "metadata": {
        "id": "v7WffV5JxAev"
      },
      "source": [
        "### Testing set value counts"
      ],
      "id": "v7WffV5JxAev"
    },
    {
      "cell_type": "code",
      "execution_count": 508,
      "metadata": {
        "colab": {
          "base_uri": "https://localhost:8080/"
        },
        "id": "rXFth6dhpqQ2",
        "outputId": "45fe6faf-da68-485b-c6c7-57bb7604c700"
      },
      "outputs": [
        {
          "output_type": "stream",
          "name": "stdout",
          "text": [
            "malicious    12833\n",
            "normal        9711\n",
            "Name: 41, dtype: int64\n"
          ]
        }
      ],
      "source": [
        "print(df2['41'].value_counts())"
      ],
      "id": "rXFth6dhpqQ2"
    },
    {
      "cell_type": "code",
      "execution_count": 509,
      "metadata": {
        "id": "e613e569"
      },
      "outputs": [],
      "source": [
        "# Encodings Labels so that they are compatible with machine leanring classifiers\n",
        "from sklearn.preprocessing import LabelEncoder\n",
        "le = LabelEncoder()\n",
        "\n",
        "for i in df:\n",
        "    if df[i].dtype=='object':\n",
        "        df[i] = le.fit_transform(df[i])\n",
        "    else:\n",
        "        continue\n",
        "for i in df2:\n",
        "    if df2[i].dtype=='object':\n",
        "        df2[i] = le.fit_transform(df2[i])\n",
        "    else:\n",
        "        continue\n",
        "        \n",
        "X_train = df.drop(['41'],axis=1)\n",
        "y_train = df['41']\n",
        "\n",
        "X_test = df2.drop(['41'],axis=1)\n",
        "y_test = df2['41']"
      ],
      "id": "e613e569"
    },
    {
      "cell_type": "code",
      "execution_count": 510,
      "metadata": {
        "id": "16db7024"
      },
      "outputs": [],
      "source": [
        "# Scaling data. Default scaling is to scale the data to unit variance (or equivalent\n",
        "mms = MinMaxScaler()\n",
        "X_train = mms.fit_transform(X_train)\n",
        "X_train = torch.tensor(X_train, dtype=torch.float)\n",
        "\n",
        "X_test = mms.fit_transform(X_test)\n",
        "X_test = torch.tensor(X_test, dtype=torch.float)"
      ],
      "id": "16db7024"
    },
    {
      "cell_type": "markdown",
      "metadata": {
        "id": "cd8383d7"
      },
      "source": [
        "## **CNN Wing 1**\n",
        "\n"
      ],
      "id": "cd8383d7"
    },
    {
      "cell_type": "code",
      "execution_count": 511,
      "metadata": {
        "id": "sU72dH_Yw10L"
      },
      "outputs": [],
      "source": [
        "device = 'cuda' if torch.cuda.is_available() else 'cpu'\n",
        "pt_x_train = X_train.to(device)\n",
        "pt_y_train = torch.tensor(np.array(y_train), dtype=torch.float).to(device)\n",
        "X_test = X_test.to(device)\n",
        "y_test = torch.tensor(y_test, dtype=torch.float).to(device)\n",
        "pt_train = TensorDataset(pt_x_train, pt_y_train)\n",
        "batch_size = 64\n",
        "pt_train = DataLoader(pt_train, batch_size=batch_size)"
      ],
      "id": "sU72dH_Yw10L"
    },
    {
      "cell_type": "code",
      "execution_count": 512,
      "metadata": {
        "id": "TCuvg7npEMqU"
      },
      "outputs": [],
      "source": [
        "class CNN1(nn.Module):\n",
        "    def __init__(self):\n",
        "        super(CNN1, self).__init__()\n",
        "        self.cnn = nn.Sequential(\n",
        "            nn.Conv1d(1,10,kernel_size = (1,3), stride=1),\n",
        "            nn.ReLU(),\n",
        "            nn.Dropout(0.0),\n",
        "            nn.BatchNorm2d(10),\n",
        "            nn.Flatten(),\n",
        "            nn.Linear(390, 5),\n",
        "            nn.ReLU()\n",
        "        )\n",
        "\n",
        "        self.clf = nn.Sequential(\n",
        "            nn.Linear(5,1),\n",
        "            nn.Sigmoid()\n",
        "        )\n",
        "\n",
        "    def forward(self, x):\n",
        "        features = self.cnn(x)\n",
        "        return self.clf(features)\n",
        "\n",
        "    def transform(self, x):\n",
        "        return self.cnn(x)"
      ],
      "id": "TCuvg7npEMqU"
    },
    {
      "cell_type": "code",
      "execution_count": 513,
      "metadata": {
        "id": "f8xStV5jblD3"
      },
      "outputs": [],
      "source": [
        "cnn = CNN1().to(device)\n",
        "criterion = nn.BCELoss()\n",
        "optimizer = torch.optim.SGD(cnn.parameters(), lr = 1e-1)"
      ],
      "id": "f8xStV5jblD3"
    },
    {
      "cell_type": "code",
      "execution_count": 514,
      "metadata": {
        "colab": {
          "base_uri": "https://localhost:8080/"
        },
        "id": "FsOpwkvtch7o",
        "outputId": "700a40b3-6a1c-46b5-b2de-ba5ff986d260"
      },
      "outputs": [
        {
          "output_type": "stream",
          "name": "stdout",
          "text": [
            "Epoch:1, Loss:0.0783\n",
            "Epoch:2, Loss:0.0635\n",
            "Epoch:3, Loss:0.0602\n",
            "Epoch:4, Loss:0.0619\n",
            "Epoch:5, Loss:0.0651\n",
            "Epoch:6, Loss:0.0587\n",
            "Epoch:7, Loss:0.0495\n",
            "Epoch:8, Loss:0.0426\n",
            "Epoch:9, Loss:0.0376\n",
            "Epoch:10, Loss:0.0370\n",
            "Epoch:11, Loss:0.0303\n",
            "Epoch:12, Loss:0.0276\n",
            "Epoch:13, Loss:0.0269\n",
            "Epoch:14, Loss:0.0275\n",
            "Epoch:15, Loss:0.0206\n",
            "Epoch:16, Loss:0.0226\n",
            "Epoch:17, Loss:0.0200\n",
            "Epoch:18, Loss:0.0186\n",
            "Epoch:19, Loss:0.0189\n",
            "Epoch:20, Loss:0.0156\n",
            "Epoch:21, Loss:0.0160\n",
            "Epoch:22, Loss:0.0162\n",
            "Epoch:23, Loss:0.0162\n",
            "Epoch:24, Loss:0.0163\n",
            "Epoch:25, Loss:0.0140\n",
            "Epoch:26, Loss:0.0134\n",
            "Epoch:27, Loss:0.0130\n",
            "Epoch:28, Loss:0.0149\n",
            "Epoch:29, Loss:0.0145\n",
            "Epoch:30, Loss:0.0133\n",
            "Epoch:31, Loss:0.0134\n",
            "Epoch:32, Loss:0.0139\n",
            "Epoch:33, Loss:0.0144\n",
            "Epoch:34, Loss:0.0150\n",
            "Epoch:35, Loss:0.0136\n",
            "Epoch:36, Loss:0.0141\n",
            "Epoch:37, Loss:0.0135\n",
            "Epoch:38, Loss:0.0137\n",
            "Epoch:39, Loss:0.0139\n",
            "Epoch:40, Loss:0.0149\n",
            "Epoch:41, Loss:0.0141\n",
            "Epoch:42, Loss:0.0146\n",
            "Epoch:43, Loss:0.0132\n",
            "Epoch:44, Loss:0.0137\n",
            "Epoch:45, Loss:0.0147\n",
            "Epoch:46, Loss:0.0135\n",
            "Epoch:47, Loss:0.0141\n",
            "Epoch:48, Loss:0.0155\n",
            "Epoch:49, Loss:0.0133\n",
            "Epoch:50, Loss:0.0148\n"
          ]
        }
      ],
      "source": [
        "num_epochs = 50\n",
        "outputs = []\n",
        "losses = []\n",
        "for epoch in range(num_epochs):\n",
        "    for instance, y in pt_train:\n",
        "        output = cnn(instance.view(-1,1,1,41))\n",
        "        loss = criterion(output, y.view(-1,1))\n",
        "        optimizer.zero_grad()\n",
        "        loss.backward()\n",
        "        optimizer.step()\n",
        "    losses.append(loss.item())\n",
        "    print(f'Epoch:{epoch+1}, Loss:{loss.item():.4f}')"
      ],
      "id": "FsOpwkvtch7o"
    },
    {
      "cell_type": "code",
      "execution_count": 515,
      "metadata": {
        "colab": {
          "base_uri": "https://localhost:8080/",
          "height": 279
        },
        "id": "Zh5uq27aGTI8",
        "outputId": "42037b03-ed75-4b28-87a6-3eb7a7ae64cf"
      },
      "outputs": [
        {
          "output_type": "display_data",
          "data": {
            "image/png": "[encoded data removed]",
            "text/plain": [
              "<Figure size 432x288 with 1 Axes>"
            ]
          },
          "metadata": {
            "needs_background": "light"
          }
        }
      ],
      "source": [
        "plt.plot(losses)\n",
        "plt.xlabel(f\"epochs({num_epochs})\")\n",
        "plt.ylabel(f\"loss\")\n",
        "_ = plt.legend(['Loss'])"
      ],
      "id": "Zh5uq27aGTI8"
    },
    {
      "cell_type": "code",
      "execution_count": 516,
      "metadata": {
        "id": "Atr62Nq7iRa0"
      },
      "outputs": [],
      "source": [
        "cnn.eval()\n",
        "with torch.no_grad():\n",
        "  train_X = cnn.transform(X_train.view(-1,1,1,41).to(device))\n",
        "  lr_probs = cnn(X_test.view(-1,1,1,41)).cpu().squeeze()"
      ],
      "id": "Atr62Nq7iRa0"
    },
    {
      "cell_type": "code",
      "source": [
        "'''confidence_coef = 0.25\n",
        "threshold = 0.5\n",
        "for i,confidence in enumerate(lr_probs):\n",
        "  if confidence < threshold + confidence_coef:\n",
        "    lr_probs[i] = 0'''"
      ],
      "metadata": {
        "colab": {
          "base_uri": "https://localhost:8080/",
          "height": 53
        },
        "id": "pjHbNkWQCf9Z",
        "outputId": "3009e092-22f3-40c3-bb7d-51a86218d528"
      },
      "id": "pjHbNkWQCf9Z",
      "execution_count": 517,
      "outputs": [
        {
          "output_type": "execute_result",
          "data": {
            "application/vnd.google.colaboratory.intrinsic+json": {
              "type": "string"
            },
            "text/plain": [
              "'confidence_coef = 0.25\\nthreshold = 0.5\\nfor i,confidence in enumerate(lr_probs):\\n  if confidence < threshold + confidence_coef:\\n    lr_probs[i] = 0'"
            ]
          },
          "metadata": {},
          "execution_count": 517
        }
      ]
    },
    {
      "cell_type": "code",
      "source": [
        "lr_probs.max()"
      ],
      "metadata": {
        "colab": {
          "base_uri": "https://localhost:8080/"
        },
        "id": "DtoMoj1VEaVA",
        "outputId": "cf33f216-9e76-4729-d935-adae856fdfda"
      },
      "id": "DtoMoj1VEaVA",
      "execution_count": 518,
      "outputs": [
        {
          "output_type": "execute_result",
          "data": {
            "text/plain": [
              "tensor(1.)"
            ]
          },
          "metadata": {},
          "execution_count": 518
        }
      ]
    },
    {
      "cell_type": "code",
      "execution_count": 519,
      "metadata": {
        "id": "921tEZUpx7AE"
      },
      "outputs": [],
      "source": [
        "preds = torch.round(lr_probs)"
      ],
      "id": "921tEZUpx7AE"
    },
    {
      "cell_type": "code",
      "execution_count": 520,
      "metadata": {
        "colab": {
          "base_uri": "https://localhost:8080/"
        },
        "id": "fNNdO3CTib7c",
        "outputId": "9c5d15d5-0303-434a-9860-69545969c5ac"
      },
      "outputs": [
        {
          "output_type": "stream",
          "name": "stdout",
          "text": [
            "Test accuracy is:0.7884\n",
            "Precision: 0.9652 Recall: 0.6518\n"
          ]
        }
      ],
      "source": [
        "cm = confusion_matrix(y_test, preds)\n",
        "tn=cm[1][1] #tn\n",
        "fn=cm[0][1] #fn\n",
        "fp=cm[1][0] #fp\n",
        "tp=cm[0][0] #tp\n",
        "acc= (tp+tn)/(tp+tn+fn+fp)\n",
        "epsilon = 1e-7 # is used so that to avoid divide by zero error\n",
        "precision = tp / (tp + fp + epsilon)\n",
        "recall = tp / (tp + fn + epsilon)\n",
        "sensitivity,specificity = tp/(tp+fn),tn/(tn+fp)\n",
        "print(\"Test accuracy is:\"+str(format(acc,'.4f')))\n",
        "print(\"Precision: \"+str(format(precision,'.4f'))+\" Recall: \"+str(format(recall,'.4f')))"
      ],
      "id": "fNNdO3CTib7c"
    },
    {
      "cell_type": "code",
      "execution_count": 521,
      "metadata": {
        "colab": {
          "base_uri": "https://localhost:8080/",
          "height": 593
        },
        "id": "QfBgTwTD2fwa",
        "outputId": "7efbf66d-acc3-4af8-9ec1-503f99544f6a"
      },
      "outputs": [
        {
          "output_type": "display_data",
          "data": {
            "image/png": "[encoded data removed]",
            "text/plain": [
              "<Figure size 432x288 with 1 Axes>"
            ]
          },
          "metadata": {
            "needs_background": "light"
          }
        },
        {
          "output_type": "stream",
          "name": "stdout",
          "text": [
            "F1:\t 79.774%\n",
            "AUC:\t 88.585%\n",
            "Accuracy:78.837%\n"
          ]
        },
        {
          "output_type": "display_data",
          "data": {
            "image/png": "[encoded data removed]",
            "text/plain": [
              "<Figure size 432x288 with 1 Axes>"
            ]
          },
          "metadata": {
            "needs_background": "light"
          }
        }
      ],
      "source": [
        "lr_precision, lr_recall, _ = precision_recall_curve(y_test, lr_probs)\n",
        "lr_f1, lr_auc = f1_score(y_test, preds), auc(lr_recall, lr_precision)\n",
        "no_skill = len(y_test[y_test==1]) / len(y_test)\n",
        "acc = accuracy_score(y_test, preds)\n",
        "plt.plot([0, 1], [no_skill, no_skill], linestyle='--', c = \"blue\")\n",
        "plt.plot(lr_recall, lr_precision, marker='.', alpha=0.5)\n",
        "# axis labels\n",
        "plt.xlabel('Recall')\n",
        "plt.ylabel('Precision')\n",
        "\n",
        "# show the plot\n",
        "plt.show()\n",
        "_ = plt.rc('legend', fontsize=18)\n",
        "disp = ConfusionMatrixDisplay(confusion_matrix = cm, display_labels = le.classes_)\n",
        "disp.plot(cmap=\"Blues\", colorbar = False)\n",
        "print(f\"F1:\\t {lr_f1*100:.3f}%\")\n",
        "print(f\"AUC:\\t {lr_auc*100:.3f}%\")\n",
        "print(f\"Accuracy:{acc*100:.3f}%\")"
      ],
      "id": "QfBgTwTD2fwa"
    },
    {
      "cell_type": "code",
      "execution_count": 522,
      "metadata": {
        "id": "kx_A6hMbCC1P"
      },
      "outputs": [],
      "source": [
        "torch.save(cnn.state_dict(), 'cnn1.pt')"
      ],
      "id": "kx_A6hMbCC1P"
    }
  ],
  "metadata": {
    "colab": {
      "collapsed_sections": [],
      "name": "cnn1.ipynb",
      "provenance": []
    },
    "kernelspec": {
      "display_name": "Python 3 (ipykernel)",
      "language": "python",
      "name": "python3"
    },
    "language_info": {
      "codemirror_mode": {
        "name": "ipython",
        "version": 3
      },
      "file_extension": ".py",
      "mimetype": "text/x-python",
      "name": "python",
      "nbconvert_exporter": "python",
      "pygments_lexer": "ipython3",
      "version": "3.8.10"
    }
  },
  "nbformat": 4,
  "nbformat_minor": 5
}