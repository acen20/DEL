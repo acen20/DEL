{
  "cells": [
    {
      "cell_type": "code",
      "execution_count": null,
      "metadata": {
        "colab": {
          "base_uri": "https://localhost:8080/"
        },
        "id": "3dgcz0LaVCIU",
        "outputId": "9a7f95c9-8181-48ce-f99e-5a4840e02632"
      },
      "outputs": [
        {
          "output_type": "stream",
          "name": "stdout",
          "text": [
            "mkdir: cannot create directory ‘../dataset’: File exists\n",
            "mkdir: cannot create directory ‘models’: File exists\n",
            "--2022-03-06 09:54:15--  https://raw.githubusercontent.com/acen20/DEL/master/deep-ensemble-jet/dataset/KDDTrain%2B_20Percent.txt\n",
            "Resolving raw.githubusercontent.com (raw.githubusercontent.com)... 185.199.108.133, 185.199.109.133, 185.199.110.133, ...\n",
            "Connecting to raw.githubusercontent.com (raw.githubusercontent.com)|185.199.108.133|:443... connected.\n",
            "HTTP request sent, awaiting response... 200 OK\n",
            "Length: 3822033 (3.6M) [text/plain]\n",
            "Saving to: ‘../dataset/KDDTrain+_20Percent.txt’\n",
            "\n",
            "../dataset/KDDTrain 100%[===================>]   3.64M  --.-KB/s    in 0.07s   \n",
            "\n",
            "2022-03-06 09:54:16 (52.5 MB/s) - ‘../dataset/KDDTrain+_20Percent.txt’ saved [3822033/3822033]\n",
            "\n",
            "--2022-03-06 09:54:16--  https://raw.githubusercontent.com/acen20/DEL/master/deep-ensemble-jet/dataset/KDDTrain%2B.txt\n",
            "Resolving raw.githubusercontent.com (raw.githubusercontent.com)... 185.199.111.133, 185.199.108.133, 185.199.109.133, ...\n",
            "Connecting to raw.githubusercontent.com (raw.githubusercontent.com)|185.199.111.133|:443... connected.\n",
            "HTTP request sent, awaiting response... 200 OK\n",
            "Length: 19109424 (18M) [text/plain]\n",
            "Saving to: ‘../dataset/KDDTrain+.txt’\n",
            "\n",
            "../dataset/KDDTrain 100%[===================>]  18.22M  --.-KB/s    in 0.1s    \n",
            "\n",
            "2022-03-06 09:54:16 (143 MB/s) - ‘../dataset/KDDTrain+.txt’ saved [19109424/19109424]\n",
            "\n",
            "--2022-03-06 09:54:16--  https://raw.githubusercontent.com/acen20/DEL/master/deep-ensemble-jet/dataset/KDDTest%2B.txt\n",
            "Resolving raw.githubusercontent.com (raw.githubusercontent.com)... 185.199.108.133, 185.199.109.133, 185.199.110.133, ...\n",
            "Connecting to raw.githubusercontent.com (raw.githubusercontent.com)|185.199.108.133|:443... connected.\n",
            "HTTP request sent, awaiting response... 200 OK\n",
            "Length: 3441513 (3.3M) [text/plain]\n",
            "Saving to: ‘../dataset/KDDTest+.txt’\n",
            "\n",
            "../dataset/KDDTest+ 100%[===================>]   3.28M  --.-KB/s    in 0.07s   \n",
            "\n",
            "2022-03-06 09:54:16 (48.2 MB/s) - ‘../dataset/KDDTest+.txt’ saved [3441513/3441513]\n",
            "\n",
            "--2022-03-06 09:54:16--  https://raw.githubusercontent.com/acen20/DEL/master/deep-ensemble-jet/dataset/KDDTest-21.txt\n",
            "Resolving raw.githubusercontent.com (raw.githubusercontent.com)... 185.199.108.133, 185.199.110.133, 185.199.111.133, ...\n",
            "Connecting to raw.githubusercontent.com (raw.githubusercontent.com)|185.199.108.133|:443... connected.\n",
            "HTTP request sent, awaiting response... 200 OK\n",
            "Length: 1814092 (1.7M) [text/plain]\n",
            "Saving to: ‘../dataset/KDDTest-21.txt’\n",
            "\n",
            "../dataset/KDDTest- 100%[===================>]   1.73M  --.-KB/s    in 0.06s   \n",
            "\n",
            "2022-03-06 09:54:16 (29.4 MB/s) - ‘../dataset/KDDTest-21.txt’ saved [1814092/1814092]\n",
            "\n",
            "2022-03-06 09:54:17 URL:https://raw.githubusercontent.com/acen20/DEL/master/deep-ensemble-jet/models/cnn1_1.pt [11460/11460] -> \"models/cnn1_1.pt\" [1]\n",
            "2022-03-06 09:54:17 URL:https://raw.githubusercontent.com/acen20/DEL/master/deep-ensemble-jet/models/cnn2_5.pt [26117/26117] -> \"models/cnn2_5.pt\" [1]\n",
            "2022-03-06 09:54:17 URL:https://raw.githubusercontent.com/acen20/DEL/master/deep-ensemble-jet/models/sparse_encoder.pt [6475/6475] -> \"models/sparse_encoder.pt\" [1]\n",
            "2022-03-06 09:54:17 URL:https://raw.githubusercontent.com/acen20/DEL/master/deep-ensemble-jet/models/nlpca.pt [68917/68917] -> \"models/nlpca.pt\" [1]\n"
          ]
        }
      ],
      "source": [
        "!mkdir ../dataset \n",
        "!mkdir models\n",
        "!wget -O ../dataset/KDDTrain+_20Percent.txt https://raw.githubusercontent.com/acen20/DEL/master/deep-ensemble-jet/dataset/KDDTrain%2B_20Percent.txt\n",
        "!wget -O ../dataset/KDDTrain+.txt https://raw.githubusercontent.com/acen20/DEL/master/deep-ensemble-jet/dataset/KDDTrain%2B.txt\n",
        "!wget -O ../dataset/KDDTest+.txt https://raw.githubusercontent.com/acen20/DEL/master/deep-ensemble-jet/dataset/KDDTest%2B.txt\n",
        "!wget -O ../dataset/KDDTest-21.txt https://raw.githubusercontent.com/acen20/DEL/master/deep-ensemble-jet/dataset/KDDTest-21.txt\n",
        "!wget -nv -O models/cnn1_1.pt https://github.com/acen20/DEL/raw/master/deep-ensemble-jet/models/cnn1_1.pt\n",
        "!wget -nv -O models/cnn2_5.pt https://github.com/acen20/DEL/raw/master/deep-ensemble-jet/models/cnn2_5.pt\n",
        "!wget -nv -O models/sparse_encoder.pt https://github.com/acen20/DEL/raw/master/deep-ensemble-jet/models/sparse_encoder.pt\n",
        "!wget -nv -O models/nlpca.pt https://github.com/acen20/DEL/raw/master/deep-ensemble-jet/models/nlpca.pt"
      ],
      "id": "3dgcz0LaVCIU"
    },
    {
      "cell_type": "code",
      "execution_count": null,
      "metadata": {
        "id": "8ec7a96a"
      },
      "outputs": [],
      "source": [
        "import torch\n",
        "from torch import nn\n",
        "from torchvision import transforms\n",
        "from torch.utils.data import TensorDataset, DataLoader\n",
        "import matplotlib.pyplot as plt\n",
        "from sklearn.metrics import precision_recall_curve\n",
        "from matplotlib import pyplot\n",
        "from sklearn.metrics import f1_score\n",
        "from sklearn.metrics import ConfusionMatrixDisplay\n",
        "from sklearn.model_selection import cross_val_score\n",
        "import numpy as np\n",
        "from sklearn.preprocessing import LabelEncoder\n",
        "from sklearn.model_selection import train_test_split\n",
        "from sklearn.metrics import classification_report\n",
        "from sklearn.preprocessing import MinMaxScaler\n",
        "from sklearn.model_selection import StratifiedKFold as KFold\n",
        "from sklearn.metrics import auc\n",
        "from sklearn.metrics import accuracy_score\n",
        "import matplotlib.pyplot as plt\n",
        "from sklearn.metrics import confusion_matrix"
      ],
      "id": "8ec7a96a"
    },
    {
      "cell_type": "code",
      "execution_count": null,
      "metadata": {
        "id": "2c580674"
      },
      "outputs": [],
      "source": [
        "from warnings import simplefilter\n",
        "from sklearn.exceptions import ConvergenceWarning\n",
        "simplefilter(\"ignore\", category=ConvergenceWarning)"
      ],
      "id": "2c580674"
    },
    {
      "cell_type": "code",
      "execution_count": null,
      "metadata": {
        "id": "929c5c3c"
      },
      "outputs": [],
      "source": [
        "import pandas as pd # data processing, CSV file I/O (e.g. pd.read_csv)\n",
        "# Loading Dataset\n",
        "# Dataset link: https://data.mendeley.com/datasets/xvyv59vwvz/1\n",
        "# Dataset is present in the current directory containing the code file.\n",
        "df=pd.read_csv('../dataset/KDDTrain+.txt', header=None)\n",
        "df2=pd.read_csv('../dataset/KDDTest+.txt', header=None)"
      ],
      "id": "929c5c3c"
    },
    {
      "cell_type": "markdown",
      "metadata": {
        "id": "5b488c60"
      },
      "source": [
        "## Preprocessing"
      ],
      "id": "5b488c60"
    },
    {
      "cell_type": "code",
      "execution_count": null,
      "metadata": {
        "colab": {
          "base_uri": "https://localhost:8080/",
          "height": 236
        },
        "id": "e919a469",
        "outputId": "b9dff31b-7414-419f-c758-b4c910b370e9",
        "scrolled": false
      },
      "outputs": [
        {
          "output_type": "execute_result",
          "data": {
            "text/html": [
              "\n",
              "  <div id=\"df-0cd1e727-bfab-414c-9b19-3e05e5b164f5\">\n",
              "    <div class=\"colab-df-container\">\n",
              "      <div>\n",
              "<style scoped>\n",
              "    .dataframe tbody tr th:only-of-type {\n",
              "        vertical-align: middle;\n",
              "    }\n",
              "\n",
              "    .dataframe tbody tr th {\n",
              "        vertical-align: top;\n",
              "    }\n",
              "\n",
              "    .dataframe thead th {\n",
              "        text-align: right;\n",
              "    }\n",
              "</style>\n",
              "<table border=\"1\" class=\"dataframe\">\n",
              "  <thead>\n",
              "    <tr style=\"text-align: right;\">\n",
              "      <th></th>\n",
              "      <th>0</th>\n",
              "      <th>1</th>\n",
              "      <th>2</th>\n",
              "      <th>3</th>\n",
              "      <th>4</th>\n",
              "      <th>5</th>\n",
              "      <th>6</th>\n",
              "      <th>7</th>\n",
              "      <th>8</th>\n",
              "      <th>9</th>\n",
              "      <th>...</th>\n",
              "      <th>33</th>\n",
              "      <th>34</th>\n",
              "      <th>35</th>\n",
              "      <th>36</th>\n",
              "      <th>37</th>\n",
              "      <th>38</th>\n",
              "      <th>39</th>\n",
              "      <th>40</th>\n",
              "      <th>41</th>\n",
              "      <th>42</th>\n",
              "    </tr>\n",
              "  </thead>\n",
              "  <tbody>\n",
              "    <tr>\n",
              "      <th>0</th>\n",
              "      <td>0</td>\n",
              "      <td>tcp</td>\n",
              "      <td>ftp_data</td>\n",
              "      <td>SF</td>\n",
              "      <td>491</td>\n",
              "      <td>0</td>\n",
              "      <td>0</td>\n",
              "      <td>0</td>\n",
              "      <td>0</td>\n",
              "      <td>0</td>\n",
              "      <td>...</td>\n",
              "      <td>0.17</td>\n",
              "      <td>0.03</td>\n",
              "      <td>0.17</td>\n",
              "      <td>0.00</td>\n",
              "      <td>0.00</td>\n",
              "      <td>0.00</td>\n",
              "      <td>0.05</td>\n",
              "      <td>0.00</td>\n",
              "      <td>normal</td>\n",
              "      <td>20</td>\n",
              "    </tr>\n",
              "    <tr>\n",
              "      <th>1</th>\n",
              "      <td>0</td>\n",
              "      <td>udp</td>\n",
              "      <td>other</td>\n",
              "      <td>SF</td>\n",
              "      <td>146</td>\n",
              "      <td>0</td>\n",
              "      <td>0</td>\n",
              "      <td>0</td>\n",
              "      <td>0</td>\n",
              "      <td>0</td>\n",
              "      <td>...</td>\n",
              "      <td>0.00</td>\n",
              "      <td>0.60</td>\n",
              "      <td>0.88</td>\n",
              "      <td>0.00</td>\n",
              "      <td>0.00</td>\n",
              "      <td>0.00</td>\n",
              "      <td>0.00</td>\n",
              "      <td>0.00</td>\n",
              "      <td>normal</td>\n",
              "      <td>15</td>\n",
              "    </tr>\n",
              "    <tr>\n",
              "      <th>2</th>\n",
              "      <td>0</td>\n",
              "      <td>tcp</td>\n",
              "      <td>private</td>\n",
              "      <td>S0</td>\n",
              "      <td>0</td>\n",
              "      <td>0</td>\n",
              "      <td>0</td>\n",
              "      <td>0</td>\n",
              "      <td>0</td>\n",
              "      <td>0</td>\n",
              "      <td>...</td>\n",
              "      <td>0.10</td>\n",
              "      <td>0.05</td>\n",
              "      <td>0.00</td>\n",
              "      <td>0.00</td>\n",
              "      <td>1.00</td>\n",
              "      <td>1.00</td>\n",
              "      <td>0.00</td>\n",
              "      <td>0.00</td>\n",
              "      <td>neptune</td>\n",
              "      <td>19</td>\n",
              "    </tr>\n",
              "    <tr>\n",
              "      <th>3</th>\n",
              "      <td>0</td>\n",
              "      <td>tcp</td>\n",
              "      <td>http</td>\n",
              "      <td>SF</td>\n",
              "      <td>232</td>\n",
              "      <td>8153</td>\n",
              "      <td>0</td>\n",
              "      <td>0</td>\n",
              "      <td>0</td>\n",
              "      <td>0</td>\n",
              "      <td>...</td>\n",
              "      <td>1.00</td>\n",
              "      <td>0.00</td>\n",
              "      <td>0.03</td>\n",
              "      <td>0.04</td>\n",
              "      <td>0.03</td>\n",
              "      <td>0.01</td>\n",
              "      <td>0.00</td>\n",
              "      <td>0.01</td>\n",
              "      <td>normal</td>\n",
              "      <td>21</td>\n",
              "    </tr>\n",
              "    <tr>\n",
              "      <th>4</th>\n",
              "      <td>0</td>\n",
              "      <td>tcp</td>\n",
              "      <td>http</td>\n",
              "      <td>SF</td>\n",
              "      <td>199</td>\n",
              "      <td>420</td>\n",
              "      <td>0</td>\n",
              "      <td>0</td>\n",
              "      <td>0</td>\n",
              "      <td>0</td>\n",
              "      <td>...</td>\n",
              "      <td>1.00</td>\n",
              "      <td>0.00</td>\n",
              "      <td>0.00</td>\n",
              "      <td>0.00</td>\n",
              "      <td>0.00</td>\n",
              "      <td>0.00</td>\n",
              "      <td>0.00</td>\n",
              "      <td>0.00</td>\n",
              "      <td>normal</td>\n",
              "      <td>21</td>\n",
              "    </tr>\n",
              "  </tbody>\n",
              "</table>\n",
              "<p>5 rows × 43 columns</p>\n",
              "</div>\n",
              "      <button class=\"colab-df-convert\" onclick=\"convertToInteractive('df-0cd1e727-bfab-414c-9b19-3e05e5b164f5')\"\n",
              "              title=\"Convert this dataframe to an interactive table.\"\n",
              "              style=\"display:none;\">\n",
              "        \n",
              "  <svg xmlns=\"http://www.w3.org/2000/svg\" height=\"24px\"viewBox=\"0 0 24 24\"\n",
              "       width=\"24px\">\n",
              "    <path d=\"M0 0h24v24H0V0z\" fill=\"none\"/>\n",
              "    <path d=\"M18.56 5.44l.94 2.06.94-2.06 2.06-.94-2.06-.94-.94-2.06-.94 2.06-2.06.94zm-11 1L8.5 8.5l.94-2.06 2.06-.94-2.06-.94L8.5 2.5l-.94 2.06-2.06.94zm10 10l.94 2.06.94-2.06 2.06-.94-2.06-.94-.94-2.06-.94 2.06-2.06.94z\"/><path d=\"M17.41 7.96l-1.37-1.37c-.4-.4-.92-.59-1.43-.59-.52 0-1.04.2-1.43.59L10.3 9.45l-7.72 7.72c-.78.78-.78 2.05 0 2.83L4 21.41c.39.39.9.59 1.41.59.51 0 1.02-.2 1.41-.59l7.78-7.78 2.81-2.81c.8-.78.8-2.07 0-2.86zM5.41 20L4 18.59l7.72-7.72 1.47 1.35L5.41 20z\"/>\n",
              "  </svg>\n",
              "      </button>\n",
              "      \n",
              "  <style>\n",
              "    .colab-df-container {\n",
              "      display:flex;\n",
              "      flex-wrap:wrap;\n",
              "      gap: 12px;\n",
              "    }\n",
              "\n",
              "    .colab-df-convert {\n",
              "      background-color: #E8F0FE;\n",
              "      border: none;\n",
              "      border-radius: 50%;\n",
              "      cursor: pointer;\n",
              "      display: none;\n",
              "      fill: #1967D2;\n",
              "      height: 32px;\n",
              "      padding: 0 0 0 0;\n",
              "      width: 32px;\n",
              "    }\n",
              "\n",
              "    .colab-df-convert:hover {\n",
              "      background-color: #E2EBFA;\n",
              "      box-shadow: 0px 1px 2px rgba(60, 64, 67, 0.3), 0px 1px 3px 1px rgba(60, 64, 67, 0.15);\n",
              "      fill: #174EA6;\n",
              "    }\n",
              "\n",
              "    [theme=dark] .colab-df-convert {\n",
              "      background-color: #3B4455;\n",
              "      fill: #D2E3FC;\n",
              "    }\n",
              "\n",
              "    [theme=dark] .colab-df-convert:hover {\n",
              "      background-color: #434B5C;\n",
              "      box-shadow: 0px 1px 3px 1px rgba(0, 0, 0, 0.15);\n",
              "      filter: drop-shadow(0px 1px 2px rgba(0, 0, 0, 0.3));\n",
              "      fill: #FFFFFF;\n",
              "    }\n",
              "  </style>\n",
              "\n",
              "      <script>\n",
              "        const buttonEl =\n",
              "          document.querySelector('#df-0cd1e727-bfab-414c-9b19-3e05e5b164f5 button.colab-df-convert');\n",
              "        buttonEl.style.display =\n",
              "          google.colab.kernel.accessAllowed ? 'block' : 'none';\n",
              "\n",
              "        async function convertToInteractive(key) {\n",
              "          const element = document.querySelector('#df-0cd1e727-bfab-414c-9b19-3e05e5b164f5');\n",
              "          const dataTable =\n",
              "            await google.colab.kernel.invokeFunction('convertToInteractive',\n",
              "                                                     [key], {});\n",
              "          if (!dataTable) return;\n",
              "\n",
              "          const docLinkHtml = 'Like what you see? Visit the ' +\n",
              "            '<a target=\"_blank\" href=https://colab.research.google.com/notebooks/data_table.ipynb>data table notebook</a>'\n",
              "            + ' to learn more about interactive tables.';\n",
              "          element.innerHTML = '';\n",
              "          dataTable['output_type'] = 'display_data';\n",
              "          await google.colab.output.renderOutput(dataTable, element);\n",
              "          const docLink = document.createElement('div');\n",
              "          docLink.innerHTML = docLinkHtml;\n",
              "          element.appendChild(docLink);\n",
              "        }\n",
              "      </script>\n",
              "    </div>\n",
              "  </div>\n",
              "  "
            ],
            "text/plain": [
              "   0    1         2   3    4     5   6   7   8   9   ...    33    34    35  \\\n",
              "0   0  tcp  ftp_data  SF  491     0   0   0   0   0  ...  0.17  0.03  0.17   \n",
              "1   0  udp     other  SF  146     0   0   0   0   0  ...  0.00  0.60  0.88   \n",
              "2   0  tcp   private  S0    0     0   0   0   0   0  ...  0.10  0.05  0.00   \n",
              "3   0  tcp      http  SF  232  8153   0   0   0   0  ...  1.00  0.00  0.03   \n",
              "4   0  tcp      http  SF  199   420   0   0   0   0  ...  1.00  0.00  0.00   \n",
              "\n",
              "     36    37    38    39    40       41  42  \n",
              "0  0.00  0.00  0.00  0.05  0.00   normal  20  \n",
              "1  0.00  0.00  0.00  0.00  0.00   normal  15  \n",
              "2  0.00  1.00  1.00  0.00  0.00  neptune  19  \n",
              "3  0.04  0.03  0.01  0.00  0.01   normal  21  \n",
              "4  0.00  0.00  0.00  0.00  0.00   normal  21  \n",
              "\n",
              "[5 rows x 43 columns]"
            ]
          },
          "metadata": {},
          "execution_count": 71
        }
      ],
      "source": [
        "df.head()"
      ],
      "id": "e919a469"
    },
    {
      "cell_type": "code",
      "execution_count": null,
      "metadata": {
        "id": "b7a65747"
      },
      "outputs": [],
      "source": [
        "df.columns = [str(i) for i in range(0, len(df.columns))]\n",
        "df2.columns = [str(i) for i in range(0, len(df2.columns))]"
      ],
      "id": "b7a65747"
    },
    {
      "cell_type": "code",
      "execution_count": null,
      "metadata": {
        "id": "aa639012"
      },
      "outputs": [],
      "source": [
        "# Replacing Null values with 0. ML classifer cannot learn on Null values\n",
        "df.fillna(0, inplace=True)\n",
        "df2.fillna(0, inplace=True)"
      ],
      "id": "aa639012"
    },
    {
      "cell_type": "code",
      "execution_count": null,
      "metadata": {
        "colab": {
          "base_uri": "https://localhost:8080/",
          "height": 236
        },
        "id": "740bf015",
        "outputId": "e1fc8ac9-9753-4d54-e224-4154cc20474d"
      },
      "outputs": [
        {
          "output_type": "execute_result",
          "data": {
            "text/html": [
              "\n",
              "  <div id=\"df-93c8cf59-a02d-4065-8ffe-3ee8ba46116f\">\n",
              "    <div class=\"colab-df-container\">\n",
              "      <div>\n",
              "<style scoped>\n",
              "    .dataframe tbody tr th:only-of-type {\n",
              "        vertical-align: middle;\n",
              "    }\n",
              "\n",
              "    .dataframe tbody tr th {\n",
              "        vertical-align: top;\n",
              "    }\n",
              "\n",
              "    .dataframe thead th {\n",
              "        text-align: right;\n",
              "    }\n",
              "</style>\n",
              "<table border=\"1\" class=\"dataframe\">\n",
              "  <thead>\n",
              "    <tr style=\"text-align: right;\">\n",
              "      <th></th>\n",
              "      <th>0</th>\n",
              "      <th>1</th>\n",
              "      <th>2</th>\n",
              "      <th>3</th>\n",
              "      <th>4</th>\n",
              "      <th>5</th>\n",
              "      <th>6</th>\n",
              "      <th>7</th>\n",
              "      <th>8</th>\n",
              "      <th>9</th>\n",
              "      <th>...</th>\n",
              "      <th>33</th>\n",
              "      <th>34</th>\n",
              "      <th>35</th>\n",
              "      <th>36</th>\n",
              "      <th>37</th>\n",
              "      <th>38</th>\n",
              "      <th>39</th>\n",
              "      <th>40</th>\n",
              "      <th>41</th>\n",
              "      <th>42</th>\n",
              "    </tr>\n",
              "  </thead>\n",
              "  <tbody>\n",
              "    <tr>\n",
              "      <th>0</th>\n",
              "      <td>0</td>\n",
              "      <td>tcp</td>\n",
              "      <td>ftp_data</td>\n",
              "      <td>SF</td>\n",
              "      <td>491</td>\n",
              "      <td>0</td>\n",
              "      <td>0</td>\n",
              "      <td>0</td>\n",
              "      <td>0</td>\n",
              "      <td>0</td>\n",
              "      <td>...</td>\n",
              "      <td>0.17</td>\n",
              "      <td>0.03</td>\n",
              "      <td>0.17</td>\n",
              "      <td>0.00</td>\n",
              "      <td>0.00</td>\n",
              "      <td>0.00</td>\n",
              "      <td>0.05</td>\n",
              "      <td>0.00</td>\n",
              "      <td>normal</td>\n",
              "      <td>20</td>\n",
              "    </tr>\n",
              "    <tr>\n",
              "      <th>1</th>\n",
              "      <td>0</td>\n",
              "      <td>udp</td>\n",
              "      <td>other</td>\n",
              "      <td>SF</td>\n",
              "      <td>146</td>\n",
              "      <td>0</td>\n",
              "      <td>0</td>\n",
              "      <td>0</td>\n",
              "      <td>0</td>\n",
              "      <td>0</td>\n",
              "      <td>...</td>\n",
              "      <td>0.00</td>\n",
              "      <td>0.60</td>\n",
              "      <td>0.88</td>\n",
              "      <td>0.00</td>\n",
              "      <td>0.00</td>\n",
              "      <td>0.00</td>\n",
              "      <td>0.00</td>\n",
              "      <td>0.00</td>\n",
              "      <td>normal</td>\n",
              "      <td>15</td>\n",
              "    </tr>\n",
              "    <tr>\n",
              "      <th>2</th>\n",
              "      <td>0</td>\n",
              "      <td>tcp</td>\n",
              "      <td>private</td>\n",
              "      <td>S0</td>\n",
              "      <td>0</td>\n",
              "      <td>0</td>\n",
              "      <td>0</td>\n",
              "      <td>0</td>\n",
              "      <td>0</td>\n",
              "      <td>0</td>\n",
              "      <td>...</td>\n",
              "      <td>0.10</td>\n",
              "      <td>0.05</td>\n",
              "      <td>0.00</td>\n",
              "      <td>0.00</td>\n",
              "      <td>1.00</td>\n",
              "      <td>1.00</td>\n",
              "      <td>0.00</td>\n",
              "      <td>0.00</td>\n",
              "      <td>neptune</td>\n",
              "      <td>19</td>\n",
              "    </tr>\n",
              "    <tr>\n",
              "      <th>3</th>\n",
              "      <td>0</td>\n",
              "      <td>tcp</td>\n",
              "      <td>http</td>\n",
              "      <td>SF</td>\n",
              "      <td>232</td>\n",
              "      <td>8153</td>\n",
              "      <td>0</td>\n",
              "      <td>0</td>\n",
              "      <td>0</td>\n",
              "      <td>0</td>\n",
              "      <td>...</td>\n",
              "      <td>1.00</td>\n",
              "      <td>0.00</td>\n",
              "      <td>0.03</td>\n",
              "      <td>0.04</td>\n",
              "      <td>0.03</td>\n",
              "      <td>0.01</td>\n",
              "      <td>0.00</td>\n",
              "      <td>0.01</td>\n",
              "      <td>normal</td>\n",
              "      <td>21</td>\n",
              "    </tr>\n",
              "    <tr>\n",
              "      <th>4</th>\n",
              "      <td>0</td>\n",
              "      <td>tcp</td>\n",
              "      <td>http</td>\n",
              "      <td>SF</td>\n",
              "      <td>199</td>\n",
              "      <td>420</td>\n",
              "      <td>0</td>\n",
              "      <td>0</td>\n",
              "      <td>0</td>\n",
              "      <td>0</td>\n",
              "      <td>...</td>\n",
              "      <td>1.00</td>\n",
              "      <td>0.00</td>\n",
              "      <td>0.00</td>\n",
              "      <td>0.00</td>\n",
              "      <td>0.00</td>\n",
              "      <td>0.00</td>\n",
              "      <td>0.00</td>\n",
              "      <td>0.00</td>\n",
              "      <td>normal</td>\n",
              "      <td>21</td>\n",
              "    </tr>\n",
              "  </tbody>\n",
              "</table>\n",
              "<p>5 rows × 43 columns</p>\n",
              "</div>\n",
              "      <button class=\"colab-df-convert\" onclick=\"convertToInteractive('df-93c8cf59-a02d-4065-8ffe-3ee8ba46116f')\"\n",
              "              title=\"Convert this dataframe to an interactive table.\"\n",
              "              style=\"display:none;\">\n",
              "        \n",
              "  <svg xmlns=\"http://www.w3.org/2000/svg\" height=\"24px\"viewBox=\"0 0 24 24\"\n",
              "       width=\"24px\">\n",
              "    <path d=\"M0 0h24v24H0V0z\" fill=\"none\"/>\n",
              "    <path d=\"M18.56 5.44l.94 2.06.94-2.06 2.06-.94-2.06-.94-.94-2.06-.94 2.06-2.06.94zm-11 1L8.5 8.5l.94-2.06 2.06-.94-2.06-.94L8.5 2.5l-.94 2.06-2.06.94zm10 10l.94 2.06.94-2.06 2.06-.94-2.06-.94-.94-2.06-.94 2.06-2.06.94z\"/><path d=\"M17.41 7.96l-1.37-1.37c-.4-.4-.92-.59-1.43-.59-.52 0-1.04.2-1.43.59L10.3 9.45l-7.72 7.72c-.78.78-.78 2.05 0 2.83L4 21.41c.39.39.9.59 1.41.59.51 0 1.02-.2 1.41-.59l7.78-7.78 2.81-2.81c.8-.78.8-2.07 0-2.86zM5.41 20L4 18.59l7.72-7.72 1.47 1.35L5.41 20z\"/>\n",
              "  </svg>\n",
              "      </button>\n",
              "      \n",
              "  <style>\n",
              "    .colab-df-container {\n",
              "      display:flex;\n",
              "      flex-wrap:wrap;\n",
              "      gap: 12px;\n",
              "    }\n",
              "\n",
              "    .colab-df-convert {\n",
              "      background-color: #E8F0FE;\n",
              "      border: none;\n",
              "      border-radius: 50%;\n",
              "      cursor: pointer;\n",
              "      display: none;\n",
              "      fill: #1967D2;\n",
              "      height: 32px;\n",
              "      padding: 0 0 0 0;\n",
              "      width: 32px;\n",
              "    }\n",
              "\n",
              "    .colab-df-convert:hover {\n",
              "      background-color: #E2EBFA;\n",
              "      box-shadow: 0px 1px 2px rgba(60, 64, 67, 0.3), 0px 1px 3px 1px rgba(60, 64, 67, 0.15);\n",
              "      fill: #174EA6;\n",
              "    }\n",
              "\n",
              "    [theme=dark] .colab-df-convert {\n",
              "      background-color: #3B4455;\n",
              "      fill: #D2E3FC;\n",
              "    }\n",
              "\n",
              "    [theme=dark] .colab-df-convert:hover {\n",
              "      background-color: #434B5C;\n",
              "      box-shadow: 0px 1px 3px 1px rgba(0, 0, 0, 0.15);\n",
              "      filter: drop-shadow(0px 1px 2px rgba(0, 0, 0, 0.3));\n",
              "      fill: #FFFFFF;\n",
              "    }\n",
              "  </style>\n",
              "\n",
              "      <script>\n",
              "        const buttonEl =\n",
              "          document.querySelector('#df-93c8cf59-a02d-4065-8ffe-3ee8ba46116f button.colab-df-convert');\n",
              "        buttonEl.style.display =\n",
              "          google.colab.kernel.accessAllowed ? 'block' : 'none';\n",
              "\n",
              "        async function convertToInteractive(key) {\n",
              "          const element = document.querySelector('#df-93c8cf59-a02d-4065-8ffe-3ee8ba46116f');\n",
              "          const dataTable =\n",
              "            await google.colab.kernel.invokeFunction('convertToInteractive',\n",
              "                                                     [key], {});\n",
              "          if (!dataTable) return;\n",
              "\n",
              "          const docLinkHtml = 'Like what you see? Visit the ' +\n",
              "            '<a target=\"_blank\" href=https://colab.research.google.com/notebooks/data_table.ipynb>data table notebook</a>'\n",
              "            + ' to learn more about interactive tables.';\n",
              "          element.innerHTML = '';\n",
              "          dataTable['output_type'] = 'display_data';\n",
              "          await google.colab.output.renderOutput(dataTable, element);\n",
              "          const docLink = document.createElement('div');\n",
              "          docLink.innerHTML = docLinkHtml;\n",
              "          element.appendChild(docLink);\n",
              "        }\n",
              "      </script>\n",
              "    </div>\n",
              "  </div>\n",
              "  "
            ],
            "text/plain": [
              "   0    1         2   3    4     5  6  7  8  9  ...    33    34    35    36  \\\n",
              "0  0  tcp  ftp_data  SF  491     0  0  0  0  0  ...  0.17  0.03  0.17  0.00   \n",
              "1  0  udp     other  SF  146     0  0  0  0  0  ...  0.00  0.60  0.88  0.00   \n",
              "2  0  tcp   private  S0    0     0  0  0  0  0  ...  0.10  0.05  0.00  0.00   \n",
              "3  0  tcp      http  SF  232  8153  0  0  0  0  ...  1.00  0.00  0.03  0.04   \n",
              "4  0  tcp      http  SF  199   420  0  0  0  0  ...  1.00  0.00  0.00  0.00   \n",
              "\n",
              "     37    38    39    40       41  42  \n",
              "0  0.00  0.00  0.05  0.00   normal  20  \n",
              "1  0.00  0.00  0.00  0.00   normal  15  \n",
              "2  1.00  1.00  0.00  0.00  neptune  19  \n",
              "3  0.03  0.01  0.00  0.01   normal  21  \n",
              "4  0.00  0.00  0.00  0.00   normal  21  \n",
              "\n",
              "[5 rows x 43 columns]"
            ]
          },
          "metadata": {},
          "execution_count": 74
        }
      ],
      "source": [
        "# Peak on dataset\n",
        "df.head()"
      ],
      "id": "740bf015"
    },
    {
      "cell_type": "code",
      "execution_count": null,
      "metadata": {
        "colab": {
          "base_uri": "https://localhost:8080/"
        },
        "id": "9ec1c0af",
        "outputId": "85bb09d7-01b9-4108-a6a7-624206153a98"
      },
      "outputs": [
        {
          "output_type": "execute_result",
          "data": {
            "text/plain": [
              "(125973, 43)"
            ]
          },
          "metadata": {},
          "execution_count": 75
        }
      ],
      "source": [
        "df.shape"
      ],
      "id": "9ec1c0af"
    },
    {
      "cell_type": "code",
      "execution_count": null,
      "metadata": {
        "colab": {
          "base_uri": "https://localhost:8080/",
          "height": 236
        },
        "id": "bfbee834",
        "outputId": "d8607d55-6e0e-421b-bc71-71b520bba224"
      },
      "outputs": [
        {
          "output_type": "execute_result",
          "data": {
            "text/html": [
              "\n",
              "  <div id=\"df-a834bd77-d985-4ae1-855a-9e15f2174266\">\n",
              "    <div class=\"colab-df-container\">\n",
              "      <div>\n",
              "<style scoped>\n",
              "    .dataframe tbody tr th:only-of-type {\n",
              "        vertical-align: middle;\n",
              "    }\n",
              "\n",
              "    .dataframe tbody tr th {\n",
              "        vertical-align: top;\n",
              "    }\n",
              "\n",
              "    .dataframe thead th {\n",
              "        text-align: right;\n",
              "    }\n",
              "</style>\n",
              "<table border=\"1\" class=\"dataframe\">\n",
              "  <thead>\n",
              "    <tr style=\"text-align: right;\">\n",
              "      <th></th>\n",
              "      <th>0</th>\n",
              "      <th>1</th>\n",
              "      <th>2</th>\n",
              "      <th>3</th>\n",
              "      <th>4</th>\n",
              "      <th>5</th>\n",
              "      <th>6</th>\n",
              "      <th>7</th>\n",
              "      <th>8</th>\n",
              "      <th>9</th>\n",
              "      <th>...</th>\n",
              "      <th>32</th>\n",
              "      <th>33</th>\n",
              "      <th>34</th>\n",
              "      <th>35</th>\n",
              "      <th>36</th>\n",
              "      <th>37</th>\n",
              "      <th>38</th>\n",
              "      <th>39</th>\n",
              "      <th>40</th>\n",
              "      <th>41</th>\n",
              "    </tr>\n",
              "  </thead>\n",
              "  <tbody>\n",
              "    <tr>\n",
              "      <th>0</th>\n",
              "      <td>0</td>\n",
              "      <td>tcp</td>\n",
              "      <td>ftp_data</td>\n",
              "      <td>SF</td>\n",
              "      <td>491</td>\n",
              "      <td>0</td>\n",
              "      <td>0</td>\n",
              "      <td>0</td>\n",
              "      <td>0</td>\n",
              "      <td>0</td>\n",
              "      <td>...</td>\n",
              "      <td>25</td>\n",
              "      <td>0.17</td>\n",
              "      <td>0.03</td>\n",
              "      <td>0.17</td>\n",
              "      <td>0.00</td>\n",
              "      <td>0.00</td>\n",
              "      <td>0.00</td>\n",
              "      <td>0.05</td>\n",
              "      <td>0.00</td>\n",
              "      <td>normal</td>\n",
              "    </tr>\n",
              "    <tr>\n",
              "      <th>1</th>\n",
              "      <td>0</td>\n",
              "      <td>udp</td>\n",
              "      <td>other</td>\n",
              "      <td>SF</td>\n",
              "      <td>146</td>\n",
              "      <td>0</td>\n",
              "      <td>0</td>\n",
              "      <td>0</td>\n",
              "      <td>0</td>\n",
              "      <td>0</td>\n",
              "      <td>...</td>\n",
              "      <td>1</td>\n",
              "      <td>0.00</td>\n",
              "      <td>0.60</td>\n",
              "      <td>0.88</td>\n",
              "      <td>0.00</td>\n",
              "      <td>0.00</td>\n",
              "      <td>0.00</td>\n",
              "      <td>0.00</td>\n",
              "      <td>0.00</td>\n",
              "      <td>normal</td>\n",
              "    </tr>\n",
              "    <tr>\n",
              "      <th>2</th>\n",
              "      <td>0</td>\n",
              "      <td>tcp</td>\n",
              "      <td>private</td>\n",
              "      <td>S0</td>\n",
              "      <td>0</td>\n",
              "      <td>0</td>\n",
              "      <td>0</td>\n",
              "      <td>0</td>\n",
              "      <td>0</td>\n",
              "      <td>0</td>\n",
              "      <td>...</td>\n",
              "      <td>26</td>\n",
              "      <td>0.10</td>\n",
              "      <td>0.05</td>\n",
              "      <td>0.00</td>\n",
              "      <td>0.00</td>\n",
              "      <td>1.00</td>\n",
              "      <td>1.00</td>\n",
              "      <td>0.00</td>\n",
              "      <td>0.00</td>\n",
              "      <td>neptune</td>\n",
              "    </tr>\n",
              "    <tr>\n",
              "      <th>3</th>\n",
              "      <td>0</td>\n",
              "      <td>tcp</td>\n",
              "      <td>http</td>\n",
              "      <td>SF</td>\n",
              "      <td>232</td>\n",
              "      <td>8153</td>\n",
              "      <td>0</td>\n",
              "      <td>0</td>\n",
              "      <td>0</td>\n",
              "      <td>0</td>\n",
              "      <td>...</td>\n",
              "      <td>255</td>\n",
              "      <td>1.00</td>\n",
              "      <td>0.00</td>\n",
              "      <td>0.03</td>\n",
              "      <td>0.04</td>\n",
              "      <td>0.03</td>\n",
              "      <td>0.01</td>\n",
              "      <td>0.00</td>\n",
              "      <td>0.01</td>\n",
              "      <td>normal</td>\n",
              "    </tr>\n",
              "    <tr>\n",
              "      <th>4</th>\n",
              "      <td>0</td>\n",
              "      <td>tcp</td>\n",
              "      <td>http</td>\n",
              "      <td>SF</td>\n",
              "      <td>199</td>\n",
              "      <td>420</td>\n",
              "      <td>0</td>\n",
              "      <td>0</td>\n",
              "      <td>0</td>\n",
              "      <td>0</td>\n",
              "      <td>...</td>\n",
              "      <td>255</td>\n",
              "      <td>1.00</td>\n",
              "      <td>0.00</td>\n",
              "      <td>0.00</td>\n",
              "      <td>0.00</td>\n",
              "      <td>0.00</td>\n",
              "      <td>0.00</td>\n",
              "      <td>0.00</td>\n",
              "      <td>0.00</td>\n",
              "      <td>normal</td>\n",
              "    </tr>\n",
              "  </tbody>\n",
              "</table>\n",
              "<p>5 rows × 42 columns</p>\n",
              "</div>\n",
              "      <button class=\"colab-df-convert\" onclick=\"convertToInteractive('df-a834bd77-d985-4ae1-855a-9e15f2174266')\"\n",
              "              title=\"Convert this dataframe to an interactive table.\"\n",
              "              style=\"display:none;\">\n",
              "        \n",
              "  <svg xmlns=\"http://www.w3.org/2000/svg\" height=\"24px\"viewBox=\"0 0 24 24\"\n",
              "       width=\"24px\">\n",
              "    <path d=\"M0 0h24v24H0V0z\" fill=\"none\"/>\n",
              "    <path d=\"M18.56 5.44l.94 2.06.94-2.06 2.06-.94-2.06-.94-.94-2.06-.94 2.06-2.06.94zm-11 1L8.5 8.5l.94-2.06 2.06-.94-2.06-.94L8.5 2.5l-.94 2.06-2.06.94zm10 10l.94 2.06.94-2.06 2.06-.94-2.06-.94-.94-2.06-.94 2.06-2.06.94z\"/><path d=\"M17.41 7.96l-1.37-1.37c-.4-.4-.92-.59-1.43-.59-.52 0-1.04.2-1.43.59L10.3 9.45l-7.72 7.72c-.78.78-.78 2.05 0 2.83L4 21.41c.39.39.9.59 1.41.59.51 0 1.02-.2 1.41-.59l7.78-7.78 2.81-2.81c.8-.78.8-2.07 0-2.86zM5.41 20L4 18.59l7.72-7.72 1.47 1.35L5.41 20z\"/>\n",
              "  </svg>\n",
              "      </button>\n",
              "      \n",
              "  <style>\n",
              "    .colab-df-container {\n",
              "      display:flex;\n",
              "      flex-wrap:wrap;\n",
              "      gap: 12px;\n",
              "    }\n",
              "\n",
              "    .colab-df-convert {\n",
              "      background-color: #E8F0FE;\n",
              "      border: none;\n",
              "      border-radius: 50%;\n",
              "      cursor: pointer;\n",
              "      display: none;\n",
              "      fill: #1967D2;\n",
              "      height: 32px;\n",
              "      padding: 0 0 0 0;\n",
              "      width: 32px;\n",
              "    }\n",
              "\n",
              "    .colab-df-convert:hover {\n",
              "      background-color: #E2EBFA;\n",
              "      box-shadow: 0px 1px 2px rgba(60, 64, 67, 0.3), 0px 1px 3px 1px rgba(60, 64, 67, 0.15);\n",
              "      fill: #174EA6;\n",
              "    }\n",
              "\n",
              "    [theme=dark] .colab-df-convert {\n",
              "      background-color: #3B4455;\n",
              "      fill: #D2E3FC;\n",
              "    }\n",
              "\n",
              "    [theme=dark] .colab-df-convert:hover {\n",
              "      background-color: #434B5C;\n",
              "      box-shadow: 0px 1px 3px 1px rgba(0, 0, 0, 0.15);\n",
              "      filter: drop-shadow(0px 1px 2px rgba(0, 0, 0, 0.3));\n",
              "      fill: #FFFFFF;\n",
              "    }\n",
              "  </style>\n",
              "\n",
              "      <script>\n",
              "        const buttonEl =\n",
              "          document.querySelector('#df-a834bd77-d985-4ae1-855a-9e15f2174266 button.colab-df-convert');\n",
              "        buttonEl.style.display =\n",
              "          google.colab.kernel.accessAllowed ? 'block' : 'none';\n",
              "\n",
              "        async function convertToInteractive(key) {\n",
              "          const element = document.querySelector('#df-a834bd77-d985-4ae1-855a-9e15f2174266');\n",
              "          const dataTable =\n",
              "            await google.colab.kernel.invokeFunction('convertToInteractive',\n",
              "                                                     [key], {});\n",
              "          if (!dataTable) return;\n",
              "\n",
              "          const docLinkHtml = 'Like what you see? Visit the ' +\n",
              "            '<a target=\"_blank\" href=https://colab.research.google.com/notebooks/data_table.ipynb>data table notebook</a>'\n",
              "            + ' to learn more about interactive tables.';\n",
              "          element.innerHTML = '';\n",
              "          dataTable['output_type'] = 'display_data';\n",
              "          await google.colab.output.renderOutput(dataTable, element);\n",
              "          const docLink = document.createElement('div');\n",
              "          docLink.innerHTML = docLinkHtml;\n",
              "          element.appendChild(docLink);\n",
              "        }\n",
              "      </script>\n",
              "    </div>\n",
              "  </div>\n",
              "  "
            ],
            "text/plain": [
              "   0    1         2   3    4     5  6  7  8  9  ...   32    33    34    35  \\\n",
              "0  0  tcp  ftp_data  SF  491     0  0  0  0  0  ...   25  0.17  0.03  0.17   \n",
              "1  0  udp     other  SF  146     0  0  0  0  0  ...    1  0.00  0.60  0.88   \n",
              "2  0  tcp   private  S0    0     0  0  0  0  0  ...   26  0.10  0.05  0.00   \n",
              "3  0  tcp      http  SF  232  8153  0  0  0  0  ...  255  1.00  0.00  0.03   \n",
              "4  0  tcp      http  SF  199   420  0  0  0  0  ...  255  1.00  0.00  0.00   \n",
              "\n",
              "     36    37    38    39    40       41  \n",
              "0  0.00  0.00  0.00  0.05  0.00   normal  \n",
              "1  0.00  0.00  0.00  0.00  0.00   normal  \n",
              "2  0.00  1.00  1.00  0.00  0.00  neptune  \n",
              "3  0.04  0.03  0.01  0.00  0.01   normal  \n",
              "4  0.00  0.00  0.00  0.00  0.00   normal  \n",
              "\n",
              "[5 rows x 42 columns]"
            ]
          },
          "metadata": {},
          "execution_count": 76
        }
      ],
      "source": [
        "# Peak on the dataset\n",
        "df.drop('42',axis=1, inplace=True)\n",
        "df2.drop('42',axis=1, inplace=True)\n",
        "df.head()"
      ],
      "id": "bfbee834"
    },
    {
      "cell_type": "code",
      "execution_count": null,
      "metadata": {
        "id": "7debc84a",
        "scrolled": true
      },
      "outputs": [],
      "source": [
        "sub_classes = df.iloc[:,41].value_counts()"
      ],
      "id": "7debc84a"
    },
    {
      "cell_type": "code",
      "execution_count": null,
      "metadata": {
        "colab": {
          "base_uri": "https://localhost:8080/"
        },
        "id": "46a4fd5b",
        "outputId": "7b8857c4-4153-4001-9571-037ca7601f7e"
      },
      "outputs": [
        {
          "output_type": "stream",
          "name": "stdout",
          "text": [
            "normal             67343\n",
            "neptune            41214\n",
            "satan               3633\n",
            "ipsweep             3599\n",
            "portsweep           2931\n",
            "smurf               2646\n",
            "nmap                1493\n",
            "back                 956\n",
            "teardrop             892\n",
            "warezclient          890\n",
            "pod                  201\n",
            "guess_passwd          53\n",
            "buffer_overflow       30\n",
            "warezmaster           20\n",
            "land                  18\n",
            "imap                  11\n",
            "rootkit               10\n",
            "loadmodule             9\n",
            "ftp_write              8\n",
            "multihop               7\n",
            "phf                    4\n",
            "perl                   3\n",
            "spy                    2\n",
            "Name: 41, dtype: int64\n"
          ]
        }
      ],
      "source": [
        "print(sub_classes)"
      ],
      "id": "46a4fd5b"
    },
    {
      "cell_type": "code",
      "source": [
        "r2l = ['ftp_write','guess_passwd', 'imap', 'multihop', 'phf', 'spy','warezclient','warezmaster','xlock', 'xsnoop','named',\n",
        "       'sendmail','snmpgetattack', 'snmpguess','httptunnel']\n",
        "u2r = ['buffer_overflow', 'loadmodule','perl','ps','rootkit','sqlattack','xterm']\n",
        "dos = ['back', 'land', 'neptune', 'smurf', 'teardrop','pod','mailbomb', 'processtable','udpstorm', 'worm','apache2']\n",
        "probe = ['ipsweep', 'nmap', 'portsweep', 'satan','saint','mscan']"
      ],
      "metadata": {
        "id": "8gBzAOhUjozz"
      },
      "id": "8gBzAOhUjozz",
      "execution_count": null,
      "outputs": []
    },
    {
      "cell_type": "code",
      "source": [
        "df['41'] = df['41'].map(\n",
        "    lambda x: 'malicious' if x in r2l \n",
        "    else 'malicious' if x in u2r \n",
        "    else 'malicious' if x in dos \n",
        "    else 'malicious' if x in probe \n",
        "    else x\n",
        "    )\n",
        "\n",
        "df2['41'] = df2['41'].map(\n",
        "    lambda x: 'malicious' if x in r2l \n",
        "    else 'malicious' if x in u2r \n",
        "    else 'malicious' if x in dos \n",
        "    else 'malicious' if x in probe \n",
        "    else x\n",
        "    )"
      ],
      "metadata": {
        "id": "dDY2mxULlf8W"
      },
      "id": "dDY2mxULlf8W",
      "execution_count": null,
      "outputs": []
    },
    {
      "cell_type": "markdown",
      "source": [
        "### Training set value counts"
      ],
      "metadata": {
        "id": "lc4aEOflw528"
      },
      "id": "lc4aEOflw528"
    },
    {
      "cell_type": "code",
      "source": [
        "print(df['41'].value_counts())"
      ],
      "metadata": {
        "colab": {
          "base_uri": "https://localhost:8080/"
        },
        "id": "7sLpc-LxoBVm",
        "outputId": "3d870526-7645-4529-a0d6-5a2973449655"
      },
      "id": "7sLpc-LxoBVm",
      "execution_count": null,
      "outputs": [
        {
          "output_type": "stream",
          "name": "stdout",
          "text": [
            "normal       67343\n",
            "malicious    58630\n",
            "Name: 41, dtype: int64\n"
          ]
        }
      ]
    },
    {
      "cell_type": "markdown",
      "source": [
        "### Testing set value counts"
      ],
      "metadata": {
        "id": "v7WffV5JxAev"
      },
      "id": "v7WffV5JxAev"
    },
    {
      "cell_type": "code",
      "source": [
        "print(df2['41'].value_counts())"
      ],
      "metadata": {
        "colab": {
          "base_uri": "https://localhost:8080/"
        },
        "id": "rXFth6dhpqQ2",
        "outputId": "d1ecfdbc-fe12-4166-d4a3-fffcc3ca64d6"
      },
      "id": "rXFth6dhpqQ2",
      "execution_count": null,
      "outputs": [
        {
          "output_type": "stream",
          "name": "stdout",
          "text": [
            "malicious    12833\n",
            "normal        9711\n",
            "Name: 41, dtype: int64\n"
          ]
        }
      ]
    },
    {
      "cell_type": "code",
      "execution_count": null,
      "metadata": {
        "id": "e613e569"
      },
      "outputs": [],
      "source": [
        "# Encodings Labels so that they are compatible with machine leanring classifiers\n",
        "from sklearn.preprocessing import LabelEncoder\n",
        "le = LabelEncoder()\n",
        "\n",
        "for i in df:\n",
        "    if df[i].dtype=='object':\n",
        "        df[i] = le.fit_transform(df[i])\n",
        "    else:\n",
        "        continue\n",
        "for i in df2:\n",
        "    if df2[i].dtype=='object':\n",
        "        df2[i] = le.fit_transform(df2[i])\n",
        "    else:\n",
        "        continue\n",
        "        \n",
        "X_train = df.drop(['41'],axis=1)\n",
        "y_train = df['41']\n",
        "\n",
        "X_test = df2.drop(['41'],axis=1)\n",
        "y_test = df2['41']"
      ],
      "id": "e613e569"
    },
    {
      "cell_type": "code",
      "execution_count": null,
      "metadata": {
        "id": "16db7024"
      },
      "outputs": [],
      "source": [
        "# Scaling data. Default scaling is to scale the data to unit variance (or equivalent\n",
        "mms = MinMaxScaler()\n",
        "X_train = mms.fit_transform(X_train)\n",
        "X_train = torch.tensor(X_train, dtype=torch.float)\n",
        "\n",
        "X_test = mms.fit_transform(X_test)\n",
        "X_test = torch.tensor(X_test, dtype=torch.float)"
      ],
      "id": "16db7024"
    },
    {
      "cell_type": "markdown",
      "metadata": {
        "id": "cd8383d7"
      },
      "source": [
        "## **CNN 1**\n",
        "\n"
      ],
      "id": "cd8383d7"
    },
    {
      "cell_type": "code",
      "execution_count": null,
      "metadata": {
        "id": "sU72dH_Yw10L"
      },
      "outputs": [],
      "source": [
        "device = 'cuda' if torch.cuda.is_available() else 'cpu'\n",
        "current_dims = 41"
      ],
      "id": "sU72dH_Yw10L"
    },
    {
      "cell_type": "code",
      "execution_count": null,
      "metadata": {
        "id": "TCuvg7npEMqU"
      },
      "outputs": [],
      "source": [
        "class CNN1(nn.Module):\n",
        "    def __init__(self):\n",
        "        super(CNN1, self).__init__()\n",
        "        self.cnn = nn.Sequential(\n",
        "            nn.Conv1d(1,10,kernel_size = (1,3), stride=1),\n",
        "            nn.ReLU(),\n",
        "            nn.Dropout(0.0),\n",
        "            nn.BatchNorm2d(10),\n",
        "            nn.Flatten(),\n",
        "            nn.Linear(390, 5),\n",
        "            nn.Sigmoid()\n",
        "        )\n",
        "\n",
        "        self.clf = nn.Sequential(\n",
        "            nn.Linear(5,1),\n",
        "            nn.Sigmoid()\n",
        "        )\n",
        "\n",
        "    def forward(self, x):\n",
        "        features = self.cnn(x)\n",
        "        return self.clf(features)\n",
        "\n",
        "    def transform(self, x):\n",
        "        return self.cnn(x)"
      ],
      "id": "TCuvg7npEMqU"
    },
    {
      "cell_type": "markdown",
      "source": [
        "## **CNN 2**"
      ],
      "metadata": {
        "id": "yYqx8YD86V7u"
      },
      "id": "yYqx8YD86V7u"
    },
    {
      "cell_type": "code",
      "source": [
        "class CNN2(nn.Module):\n",
        "    def __init__(self):\n",
        "        super(CNN2, self).__init__()\n",
        "        self.cnn = nn.Sequential(\n",
        "          nn.Conv1d(1,3,kernel_size = (1,3), stride=1),\n",
        "          nn.ReLU(),\n",
        "          nn.BatchNorm2d(3),\n",
        "          nn.Conv1d(3,3,kernel_size = (1,3), stride=1),\n",
        "          nn.ReLU(),\n",
        "          nn.BatchNorm2d(3),\n",
        "          nn.Conv1d(3,3,kernel_size = (1,3), stride=1),\n",
        "          nn.ReLU(),\n",
        "          nn.BatchNorm2d(3),\n",
        "          nn.Conv1d(3,3,kernel_size = (1,3), stride=1),\n",
        "          nn.ReLU(),\n",
        "          nn.BatchNorm2d(3),\n",
        "          nn.Flatten(),\n",
        "          nn.Linear(99, 41),\n",
        "          nn.Sigmoid()\n",
        "        )\n",
        "\n",
        "        self.clf = nn.Sequential(\n",
        "            nn.Linear(41,1),\n",
        "            nn.Sigmoid()\n",
        "        )\n",
        "\n",
        "    def forward(self, x):\n",
        "        features = self.cnn(x)\n",
        "        return self.clf(features)\n",
        "\n",
        "    def transform(self, x):\n",
        "        return self.cnn(x)"
      ],
      "metadata": {
        "id": "4o-aPsU1XXnU"
      },
      "id": "4o-aPsU1XXnU",
      "execution_count": null,
      "outputs": []
    },
    {
      "cell_type": "markdown",
      "source": [
        "## **Sparse AE**"
      ],
      "metadata": {
        "id": "u600Jc8W6ldQ"
      },
      "id": "u600Jc8W6ldQ"
    },
    {
      "cell_type": "code",
      "source": [
        "class SparseEncoder(nn.Module):\n",
        "  def __init__(self):\n",
        "    super().__init__()\n",
        "    self.encoder = nn.Sequential(\n",
        "        nn.Linear(current_dims, 15),\n",
        "        nn.ReLU(),\n",
        "        nn.BatchNorm1d(15)\n",
        "    )\n",
        "    self.bottleneck = nn.Sequential(\n",
        "        nn.Linear(15, 15),\n",
        "        nn.Sigmoid()\n",
        "    )\n",
        "\n",
        "  def forward(self, x):\n",
        "    encoded = self.encoder(x)\n",
        "    encoded = self.bottleneck(encoded)\n",
        "    return encoded"
      ],
      "metadata": {
        "id": "NvMq1UB26k8-"
      },
      "id": "NvMq1UB26k8-",
      "execution_count": null,
      "outputs": []
    },
    {
      "cell_type": "code",
      "source": [
        "cnn1 = CNN1()\n",
        "cnn1.load_state_dict(torch.load('models/cnn1_1.pt'))\n",
        "cnn1.eval()\n",
        "with torch.no_grad():\n",
        "  f1 = cnn1.transform(X_train.view(-1,1,1,41))\n",
        "  f1_test = cnn1.transform(X_test.view(-1,1,1,41))\n",
        "\n",
        "cnn2 = CNN2()\n",
        "cnn2.load_state_dict(torch.load('models/cnn2_5.pt'))\n",
        "cnn2.eval()\n",
        "with torch.no_grad():\n",
        "  f2 = cnn2.transform(X_train.view(-1,1,1,41))\n",
        "  f2_test = cnn2.transform(X_test.view(-1,1,1,41))\n",
        "\n",
        "sparse_ae = SparseEncoder()\n",
        "sparse_ae.load_state_dict(torch.load('models/sparse_encoder.pt'))\n",
        "sparse_ae.eval()\n",
        "with torch.no_grad():\n",
        "  f3 = sparse_ae(X_train)\n",
        "  f3_test = sparse_ae(X_test)"
      ],
      "metadata": {
        "id": "uUUVRdvc6xsb"
      },
      "id": "uUUVRdvc6xsb",
      "execution_count": null,
      "outputs": []
    },
    {
      "cell_type": "code",
      "source": [
        "new_features = torch.cat((f1,f2,f3),dim = 1)\n",
        "new_features_test = torch.cat((f1_test,f2_test,f3_test),dim = 1)\n",
        "print(new_features.shape)\n",
        "print(new_features_test.shape)"
      ],
      "metadata": {
        "colab": {
          "base_uri": "https://localhost:8080/"
        },
        "id": "Cyies-dg99BW",
        "outputId": "d7263f2c-88bd-487a-9c0d-267016264d28"
      },
      "id": "Cyies-dg99BW",
      "execution_count": null,
      "outputs": [
        {
          "output_type": "stream",
          "name": "stdout",
          "text": [
            "torch.Size([125973, 61])\n",
            "torch.Size([22544, 61])\n"
          ]
        }
      ]
    },
    {
      "cell_type": "code",
      "source": [
        "current_dims = new_features.shape[1]\n",
        "encoded_dims = 5"
      ],
      "metadata": {
        "id": "gS1xzZ65p1Hf"
      },
      "id": "gS1xzZ65p1Hf",
      "execution_count": null,
      "outputs": []
    },
    {
      "cell_type": "code",
      "source": [
        "class Encoder(nn.Module):\n",
        "  def __init__(self):\n",
        "    super().__init__()\n",
        "    self.encoder = nn.Sequential(\n",
        "        nn.Linear(current_dims, current_dims*2),\n",
        "        nn.BatchNorm1d(current_dims*2),\n",
        "        nn.LeakyReLU(),\n",
        "        nn.Linear(current_dims*2, current_dims),\n",
        "        nn.BatchNorm1d(current_dims),\n",
        "        nn.LeakyReLU(),\n",
        "        nn.Linear(current_dims,encoded_dims),\n",
        "        nn.Sigmoid()\n",
        "    )\n",
        "\n",
        "  def forward(self, x):\n",
        "    encoded = self.encoder(x)\n",
        "    return encoded"
      ],
      "metadata": {
        "id": "5oPQTGMN92TZ"
      },
      "id": "5oPQTGMN92TZ",
      "execution_count": null,
      "outputs": []
    },
    {
      "cell_type": "code",
      "source": [
        "nlpca = Encoder()\n",
        "nlpca.load_state_dict(torch.load('models/nlpca.pt'))\n",
        "nlpca.eval()\n",
        "with torch.no_grad():\n",
        "  f4 = nlpca(new_features)\n",
        "  f4_test = nlpca(new_features_test)\n",
        "X_train = torch.cat((f4,X_train), dim = 1)\n",
        "X_test = torch.cat((f4_test,X_test), dim = 1)"
      ],
      "metadata": {
        "id": "3LLkNpDfFC4Q"
      },
      "id": "3LLkNpDfFC4Q",
      "execution_count": null,
      "outputs": []
    },
    {
      "cell_type": "code",
      "source": [
        "pt_train = TensorDataset(X_train, torch.tensor(y_train, dtype=torch.float))\n",
        "pt_train = DataLoader(pt_train, batch_size=16)"
      ],
      "metadata": {
        "id": "gPEFZIbfAaC5"
      },
      "id": "gPEFZIbfAaC5",
      "execution_count": null,
      "outputs": []
    },
    {
      "cell_type": "code",
      "source": [
        "class MLP(nn.Module):\n",
        "  def __init__(self):\n",
        "    super(MLP, self).__init__()\n",
        "    self.model = nn.Sequential(\n",
        "        nn.Linear(46, 128),\n",
        "        nn.BatchNorm1d(128),\n",
        "        nn.ReLU(),\n",
        "        nn.Linear(128, 8),\n",
        "        nn.BatchNorm1d(8),\n",
        "        nn.ReLU()\n",
        "    )\n",
        "    self.clf = nn.Sequential(\n",
        "        nn.Linear(8, 1),\n",
        "        nn.Sigmoid()\n",
        "    )\n",
        "  def forward(self, x):\n",
        "      output = self.model(x)\n",
        "      return self.clf(output)"
      ],
      "metadata": {
        "id": "0ZTfQayNFzKe"
      },
      "id": "0ZTfQayNFzKe",
      "execution_count": null,
      "outputs": []
    },
    {
      "cell_type": "code",
      "source": [
        "mlp = MLP()\n",
        "epochs = 20\n",
        "lr = 1e-1\n",
        "optimizer = torch.optim.SGD(mlp.parameters(), lr = lr)\n",
        "criterion = nn.BCELoss()"
      ],
      "metadata": {
        "id": "60BWFTqRF44m"
      },
      "id": "60BWFTqRF44m",
      "execution_count": null,
      "outputs": []
    },
    {
      "cell_type": "code",
      "execution_count": null,
      "metadata": {
        "id": "FsOpwkvtch7o",
        "colab": {
          "base_uri": "https://localhost:8080/"
        },
        "outputId": "752dae28-a50d-45a0-ffd9-29d31d672340"
      },
      "outputs": [
        {
          "output_type": "stream",
          "name": "stdout",
          "text": [
            "Epoch [1/20] \\ Loss: 0.7373\n",
            "Epoch [2/20] \\ Loss: 0.0597\n",
            "Epoch [3/20] \\ Loss: 0.0176\n",
            "Epoch [4/20] \\ Loss: 0.0076\n",
            "Epoch [5/20] \\ Loss: 0.0024\n",
            "Epoch [6/20] \\ Loss: 0.0012\n",
            "Epoch [7/20] \\ Loss: 0.0012\n",
            "Epoch [8/20] \\ Loss: 0.0005\n",
            "Epoch [9/20] \\ Loss: 0.0011\n",
            "Epoch [10/20] \\ Loss: 0.0003\n",
            "Epoch [11/20] \\ Loss: 0.0006\n",
            "Epoch [12/20] \\ Loss: 0.0004\n",
            "Epoch [13/20] \\ Loss: 0.0003\n",
            "Epoch [14/20] \\ Loss: 0.0001\n",
            "Epoch [15/20] \\ Loss: 0.0002\n",
            "Epoch [16/20] \\ Loss: 0.0004\n",
            "Epoch [17/20] \\ Loss: 0.0002\n",
            "Epoch [18/20] \\ Loss: 0.0003\n",
            "Epoch [19/20] \\ Loss: 0.0001\n",
            "Epoch [20/20] \\ Loss: 0.0004\n"
          ]
        }
      ],
      "source": [
        "losses = []\n",
        "for epoch in range(epochs):\n",
        "  for batch_idx, (x, target) in enumerate(pt_train):\n",
        "    output = mlp(x)\n",
        "    loss = criterion(output, target.view(-1,1))\n",
        "    optimizer.zero_grad()\n",
        "    loss.backward()\n",
        "    optimizer.step()\n",
        "    if batch_idx == 0:\n",
        "      print(\n",
        "          f\"Epoch [{epoch+1}/{epochs}] \\ \"\n",
        "          f\"Loss: {loss.item():.4f}\"\n",
        "      ) \n",
        "      losses.append(loss.item())"
      ],
      "id": "FsOpwkvtch7o"
    },
    {
      "cell_type": "code",
      "execution_count": null,
      "metadata": {
        "id": "Zh5uq27aGTI8",
        "colab": {
          "base_uri": "https://localhost:8080/",
          "height": 279
        },
        "outputId": "ad04825a-a801-4997-e2b6-0ee6e53438f3"
      },
      "outputs": [
        {
          "output_type": "display_data",
          "data": {
            "image/png": "[encoded data removed]",
            "text/plain": [
              "<Figure size 432x288 with 1 Axes>"
            ]
          },
          "metadata": {
            "needs_background": "light"
          }
        }
      ],
      "source": [
        "plt.plot(losses)\n",
        "plt.xlabel(f\"epochs({epochs})\")\n",
        "plt.ylabel(f\"loss\")\n",
        "_ = plt.legend(['Loss'])"
      ],
      "id": "Zh5uq27aGTI8"
    },
    {
      "cell_type": "code",
      "source": [
        "_ = mlp.eval()\n",
        "with torch.no_grad():\n",
        "  lr_probs_1 = mlp(X_test).squeeze()\n",
        "  ml_pred = lr_probs_1.round()"
      ],
      "metadata": {
        "id": "sBfXlP2yGHoU"
      },
      "id": "sBfXlP2yGHoU",
      "execution_count": null,
      "outputs": []
    },
    {
      "cell_type": "code",
      "source": [
        "cm = confusion_matrix(y_test, ml_pred)\n",
        "tn=cm[1][1] #tn\n",
        "fn=cm[0][1] #fn\n",
        "fp=cm[1][0] #fp\n",
        "tp=cm[0][0] #tp\n",
        "acc= (tp+tn)/(tp+tn+fn+fp)\n",
        "epsilon = 1e-7 # is used so that to avoid divide by zero error\n",
        "precision = tp / (tp + fp + epsilon)\n",
        "recall = tp / (tp + fn + epsilon)\n",
        "sensitivity,specificity = tp/(tp+fn),tn/(tn+fp)\n",
        "print(\"Test accuracy is:\"+str(format(acc,'.4f')))\n",
        "print(\"Precision: \"+str(format(precision,'.4f'))+\" Recall: \"+str(format(recall,'.4f')))"
      ],
      "metadata": {
        "id": "Pdqrl4wXGQtt",
        "colab": {
          "base_uri": "https://localhost:8080/"
        },
        "outputId": "99e9ad98-7859-4071-b6dc-225db812582a"
      },
      "id": "Pdqrl4wXGQtt",
      "execution_count": null,
      "outputs": [
        {
          "output_type": "stream",
          "name": "stdout",
          "text": [
            "Test accuracy is:0.7784\n",
            "Precision: 0.9741 Recall: 0.6660\n"
          ]
        }
      ]
    },
    {
      "cell_type": "code",
      "source": [
        "lr_precision, lr_recall, _ = precision_recall_curve(y_test, lr_probs_1)\n",
        "lr_f1, lr_auc = f1_score(y_test, ml_pred), auc(lr_recall, lr_precision)\n",
        "no_skill = len(y_test[y_test==1]) / len(y_test)\n",
        "acc = accuracy_score(y_test, ml_pred)\n",
        "plt.plot([0, 1], [no_skill, no_skill], linestyle='--', c = \"blue\")\n",
        "plt.plot(lr_recall, lr_precision, marker='.', alpha=0.1)\n",
        "# axis labels\n",
        "plt.xlabel('Recall')\n",
        "plt.ylabel('Precision')\n",
        "\n",
        "# show the plot\n",
        "plt.show()\n",
        "_ = plt.rc('legend', fontsize=18)\n",
        "disp = ConfusionMatrixDisplay(confusion_matrix = cm, display_labels = le.classes_)\n",
        "disp.plot(cmap=\"Blues\", colorbar = False)\n",
        "print(f\"F1:\\t {lr_f1*100:.3f}%\")\n",
        "print(f\"AUC:\\t {lr_auc*100:.3f}%\")\n",
        "print(f\"Accuracy:{acc*100:.3f}%\")"
      ],
      "metadata": {
        "id": "usKzXpFhGTng",
        "colab": {
          "base_uri": "https://localhost:8080/",
          "height": 593
        },
        "outputId": "d01be404-bc45-4c93-c890-a8a80fdf9ff6"
      },
      "id": "usKzXpFhGTng",
      "execution_count": null,
      "outputs": [
        {
          "output_type": "display_data",
          "data": {
            "image/png": "[encoded data removed]",
            "text/plain": [
              "<Figure size 432x288 with 1 Axes>"
            ]
          },
          "metadata": {
            "needs_background": "light"
          }
        },
        {
          "output_type": "stream",
          "name": "stdout",
          "text": [
            "F1:\t 79.112%\n",
            "AUC:\t 90.874%\n",
            "Accuracy:77.843%\n"
          ]
        },
        {
          "output_type": "display_data",
          "data": {
            "image/png": "[encoded data removed]",
            "text/plain": [
              "<Figure size 432x288 with 1 Axes>"
            ]
          },
          "metadata": {
            "needs_background": "light"
          }
        }
      ]
    },
    {
      "cell_type": "code",
      "execution_count": null,
      "metadata": {
        "id": "kx_A6hMbCC1P"
      },
      "outputs": [],
      "source": [
        "torch.save(mlp.state_dict(), 'models/mlp.pt')"
      ],
      "id": "kx_A6hMbCC1P"
    }
  ],
  "metadata": {
    "colab": {
      "collapsed_sections": [],
      "name": "mlp.ipynb",
      "provenance": []
    },
    "kernelspec": {
      "display_name": "Python 3 (ipykernel)",
      "language": "python",
      "name": "python3"
    },
    "language_info": {
      "codemirror_mode": {
        "name": "ipython",
        "version": 3
      },
      "file_extension": ".py",
      "mimetype": "text/x-python",
      "name": "python",
      "nbconvert_exporter": "python",
      "pygments_lexer": "ipython3",
      "version": "3.8.10"
    }
  },
  "nbformat": 4,
  "nbformat_minor": 5
}